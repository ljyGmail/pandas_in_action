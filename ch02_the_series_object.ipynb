{
 "cells": [
  {
   "cell_type": "markdown",
   "id": "b84c1a3b-15d8-42ae-8aa7-b8da7f9bf959",
   "metadata": {},
   "source": [
    "# Chapter 2: The Series object"
   ]
  },
  {
   "cell_type": "markdown",
   "id": "9b2fde23-e040-4431-a961-b7afa4f6a31b",
   "metadata": {},
   "source": [
    "## 2.1 Overview of a Series"
   ]
  },
  {
   "cell_type": "code",
   "execution_count": 1,
   "id": "b152edbc-61c3-42a2-b638-78d922573e2b",
   "metadata": {},
   "outputs": [],
   "source": [
    "import pandas as pd\n",
    "import numpy as np"
   ]
  },
  {
   "cell_type": "markdown",
   "id": "18e6c9b4-8f36-4c40-a8c1-cf1b64287600",
   "metadata": {},
   "source": [
    "### 2.1.1 Classes and instances"
   ]
  },
  {
   "cell_type": "code",
   "execution_count": 2,
   "id": "19003f44-2d5b-4eea-af88-2c1f5c980901",
   "metadata": {},
   "outputs": [
    {
     "data": {
      "text/plain": [
       "Series([], dtype: object)"
      ]
     },
     "execution_count": 2,
     "metadata": {},
     "output_type": "execute_result"
    }
   ],
   "source": [
    "pd.Series()"
   ]
  },
  {
   "cell_type": "markdown",
   "id": "50371911-8bf3-4612-961c-a187c3672e9a",
   "metadata": {},
   "source": [
    "### 2.1.2 Populating the Series with values"
   ]
  },
  {
   "cell_type": "code",
   "execution_count": 3,
   "id": "d21afe84-8abd-4cf5-a122-9e8240b7522f",
   "metadata": {},
   "outputs": [
    {
     "data": {
      "text/plain": [
       "0     Chocolate\n",
       "1       Vanilla\n",
       "2    Strawberry\n",
       "3    Rum Raisin\n",
       "dtype: object"
      ]
     },
     "execution_count": 3,
     "metadata": {},
     "output_type": "execute_result"
    }
   ],
   "source": [
    "ice_cream_flavors = [\n",
    "    \"Chocolate\",\n",
    "    \"Vanilla\",\n",
    "    \"Strawberry\",\n",
    "    \"Rum Raisin\",\n",
    "]\n",
    "\n",
    "pd.Series(ice_cream_flavors)"
   ]
  },
  {
   "cell_type": "code",
   "execution_count": 4,
   "id": "619758be-572e-4a54-a756-966af04a79f9",
   "metadata": {},
   "outputs": [
    {
     "data": {
      "text/plain": [
       "0     Chocolate\n",
       "1       Vanilla\n",
       "2    Strawberry\n",
       "3    Rum Raisin\n",
       "dtype: object"
      ]
     },
     "execution_count": 4,
     "metadata": {},
     "output_type": "execute_result"
    }
   ],
   "source": [
    "# THe two lines below are equivalent\n",
    "pd.Series(ice_cream_flavors)\n",
    "pd.Series(data=ice_cream_flavors)"
   ]
  },
  {
   "cell_type": "markdown",
   "id": "b387cc46-c650-4851-ba4e-01878cb0f576",
   "metadata": {},
   "source": [
    "### 2.1.3 Customizing the Series index"
   ]
  },
  {
   "cell_type": "code",
   "execution_count": 6,
   "id": "8ddfb1d6-b6e3-4562-a562-e705d8174d16",
   "metadata": {},
   "outputs": [
    {
     "data": {
      "text/plain": [
       "Monday        Chocolate\n",
       "Wednesday       Vanilla\n",
       "Friday       Strawberry\n",
       "Saturday     Rum Raisin\n",
       "dtype: object"
      ]
     },
     "execution_count": 6,
     "metadata": {},
     "output_type": "execute_result"
    }
   ],
   "source": [
    "ice_cream_flavors = [\n",
    "    \"Chocolate\",\n",
    "    \"Vanilla\",\n",
    "    \"Strawberry\",\n",
    "    \"Rum Raisin\",\n",
    "]\n",
    "\n",
    "days_of_week = (\"Monday\", \"Wednesday\", \"Friday\", \"Saturday\")\n",
    "\n",
    "# The two lines below are equivalent\n",
    "pd.Series(ice_cream_flavors, days_of_week)\n",
    "pd.Series(data=ice_cream_flavors, index=days_of_week)"
   ]
  },
  {
   "cell_type": "code",
   "execution_count": 11,
   "id": "3f255b1d-df8d-47bc-a799-8f4732846012",
   "metadata": {},
   "outputs": [
    {
     "data": {
      "text/plain": [
       "Monday        Chocolate\n",
       "Wednesday       Vanilla\n",
       "Friday       Strawberry\n",
       "Wednesday    Rum Raisin\n",
       "dtype: object"
      ]
     },
     "execution_count": 11,
     "metadata": {},
     "output_type": "execute_result"
    }
   ],
   "source": [
    "# THe index permits duplicates, a detail that distinguishes a Series from a Python dictionary.\n",
    "ice_cream_flavors = [\n",
    "    \"Chocolate\",\n",
    "    \"Vanilla\",\n",
    "    \"Strawberry\",\n",
    "    \"Rum Raisin\",\n",
    "]\n",
    "\n",
    "days_of_week = (\"Monday\", \"Wednesday\", \"Friday\", \"Wednesday\")\n",
    "\n",
    "# The two lines below are equivalent\n",
    "pd.Series(ice_cream_flavors, days_of_week)\n",
    "pd.Series(data=ice_cream_flavors, index=days_of_week)"
   ]
  },
  {
   "cell_type": "code",
   "execution_count": 12,
   "id": "07150be3-1ecf-474a-99dc-15e03b2c263b",
   "metadata": {},
   "outputs": [
    {
     "data": {
      "text/plain": [
       "Monday        Chocolate\n",
       "Wednesday       Vanilla\n",
       "Friday       Strawberry\n",
       "Wednesday    Rum Raisin\n",
       "dtype: object"
      ]
     },
     "execution_count": 12,
     "metadata": {},
     "output_type": "execute_result"
    }
   ],
   "source": [
    "# Keyword arguments allow passing parameters in any order.\n",
    "pd.Series(index=days_of_week, data=ice_cream_flavors)"
   ]
  },
  {
   "cell_type": "code",
   "execution_count": 13,
   "id": "ef04a65d-7107-40f4-80aa-99cc7333b985",
   "metadata": {},
   "outputs": [
    {
     "data": {
      "text/plain": [
       "0     True\n",
       "1    False\n",
       "2    False\n",
       "dtype: bool"
      ]
     },
     "execution_count": 13,
     "metadata": {},
     "output_type": "execute_result"
    }
   ],
   "source": [
    "bunch_of_bools = [True, False, False]\n",
    "pd.Series(bunch_of_bools)"
   ]
  },
  {
   "cell_type": "code",
   "execution_count": 14,
   "id": "343730c9-5a8b-4683-9d7e-9812507f3b7f",
   "metadata": {},
   "outputs": [
    {
     "data": {
      "text/plain": [
       "Open     985.32\n",
       "Close    950.44\n",
       "dtype: float64"
      ]
     },
     "execution_count": 14,
     "metadata": {},
     "output_type": "execute_result"
    }
   ],
   "source": [
    "stock_prices = [985.32, 950.44]\n",
    "time_of_day = [\"Open\", \"Close\"]\n",
    "pd.Series(data=stock_prices, index=time_of_day)"
   ]
  },
  {
   "cell_type": "code",
   "execution_count": 15,
   "id": "48631e18-8827-44c6-93c8-602b9b42d05a",
   "metadata": {},
   "outputs": [
    {
     "data": {
      "text/plain": [
       "0     4\n",
       "1     8\n",
       "2    15\n",
       "3    16\n",
       "4    23\n",
       "5    42\n",
       "dtype: int64"
      ]
     },
     "execution_count": 15,
     "metadata": {},
     "output_type": "execute_result"
    }
   ],
   "source": [
    "lucky_numbers = [4, 8, 15, 16, 23, 42]\n",
    "pd.Series(lucky_numbers)"
   ]
  },
  {
   "cell_type": "code",
   "execution_count": 16,
   "id": "beb24a58-03fc-49c2-a89c-ea6b9d6de380",
   "metadata": {},
   "outputs": [
    {
     "data": {
      "text/plain": [
       "0     4.0\n",
       "1     8.0\n",
       "2    15.0\n",
       "3    16.0\n",
       "4    23.0\n",
       "5    42.0\n",
       "dtype: float64"
      ]
     },
     "execution_count": 16,
     "metadata": {},
     "output_type": "execute_result"
    }
   ],
   "source": [
    "lucky_numbers = [4, 8, 15, 16, 23, 42]\n",
    "pd.Series(lucky_numbers, dtype=\"float\")"
   ]
  },
  {
   "cell_type": "markdown",
   "id": "dfc11de9-5ef0-4dc8-8c25-566d78680163",
   "metadata": {},
   "source": [
    "### 2.1.4 Creating a Series with missing values"
   ]
  },
  {
   "cell_type": "code",
   "execution_count": 17,
   "id": "ab773bae-fee0-4154-97d4-fe317ca716d0",
   "metadata": {},
   "outputs": [
    {
     "data": {
      "text/plain": [
       "0    94.0\n",
       "1    88.0\n",
       "2     NaN\n",
       "3    91.0\n",
       "dtype: float64"
      ]
     },
     "execution_count": 17,
     "metadata": {},
     "output_type": "execute_result"
    }
   ],
   "source": [
    "temperatures = [94, 88, np.nan, 91]\n",
    "pd.Series(data=temperatures)"
   ]
  },
  {
   "cell_type": "markdown",
   "id": "6c18f208-7e88-4eae-bb2a-c643dd48b60a",
   "metadata": {},
   "source": [
    "## 2.2 Creating a Series from Python objects"
   ]
  },
  {
   "cell_type": "code",
   "execution_count": 18,
   "id": "1bfc4dc4-855f-496c-a1bd-f596b52c3a8e",
   "metadata": {},
   "outputs": [
    {
     "data": {
      "text/plain": [
       "Cereal              125\n",
       "Chocolate Bar       406\n",
       "Ice Cream Sundae    342\n",
       "dtype: int64"
      ]
     },
     "execution_count": 18,
     "metadata": {},
     "output_type": "execute_result"
    }
   ],
   "source": [
    "calorie_info = {\n",
    "    \"Cereal\": 125,\n",
    "    \"Chocolate Bar\": 406,\n",
    "    \"Ice Cream Sundae\": 342,\n",
    "}\n",
    "\n",
    "diet = pd.Series(calorie_info)\n",
    "diet"
   ]
  },
  {
   "cell_type": "code",
   "execution_count": 19,
   "id": "5a153e48-0c5c-4a02-a880-08b13915b0e9",
   "metadata": {},
   "outputs": [
    {
     "data": {
      "text/plain": [
       "0      Red\n",
       "1    Green\n",
       "2     Blue\n",
       "dtype: object"
      ]
     },
     "execution_count": 19,
     "metadata": {},
     "output_type": "execute_result"
    }
   ],
   "source": [
    "pd.Series(data=(\"Red\", \"Green\", \"Blue\"))"
   ]
  },
  {
   "cell_type": "code",
   "execution_count": 20,
   "id": "46f7a2c0-34c6-4171-a274-5a163fee404a",
   "metadata": {},
   "outputs": [
    {
     "data": {
      "text/plain": [
       "0     (120, 41, 26)\n",
       "1    (196, 165, 45)\n",
       "dtype: object"
      ]
     },
     "execution_count": 20,
     "metadata": {},
     "output_type": "execute_result"
    }
   ],
   "source": [
    "rgb_colors = [(120, 41, 26), (196, 165, 45)]\n",
    "pd.Series(data=rgb_colors)"
   ]
  },
  {
   "cell_type": "code",
   "execution_count": 22,
   "id": "99fd3f90-cde5-48b0-89bb-f1fb1622295a",
   "metadata": {},
   "outputs": [],
   "source": [
    "my_set = {\"Ricky\", \"Bobby\"}\n",
    "# pd.Series(my_set) # TypeError"
   ]
  },
  {
   "cell_type": "code",
   "execution_count": 23,
   "id": "93da3625-8b1c-4af7-94c6-82b9521fd9e3",
   "metadata": {},
   "outputs": [
    {
     "data": {
      "text/plain": [
       "0    Bobby\n",
       "1    Ricky\n",
       "dtype: object"
      ]
     },
     "execution_count": 23,
     "metadata": {},
     "output_type": "execute_result"
    }
   ],
   "source": [
    "pd.Series(list(my_set))"
   ]
  },
  {
   "cell_type": "code",
   "execution_count": 30,
   "id": "8c64ef9b-4bca-492f-84c4-a9b33353b12d",
   "metadata": {},
   "outputs": [
    {
     "data": {
      "text/plain": [
       "array([32, 72, 30, 58, 10, 78, 47, 94, 86, 23])"
      ]
     },
     "execution_count": 30,
     "metadata": {},
     "output_type": "execute_result"
    }
   ],
   "source": [
    "random_data = np.random.randint(1, 101, 10)\n",
    "random_data"
   ]
  },
  {
   "cell_type": "code",
   "execution_count": 31,
   "id": "cc1072bd-7c0c-4cd1-a0ed-fbcf57c20f3c",
   "metadata": {},
   "outputs": [
    {
     "data": {
      "text/plain": [
       "0    32\n",
       "1    72\n",
       "2    30\n",
       "3    58\n",
       "4    10\n",
       "5    78\n",
       "6    47\n",
       "7    94\n",
       "8    86\n",
       "9    23\n",
       "dtype: int32"
      ]
     },
     "execution_count": 31,
     "metadata": {},
     "output_type": "execute_result"
    }
   ],
   "source": [
    "pd.Series(random_data)"
   ]
  },
  {
   "cell_type": "markdown",
   "id": "cfd161e6-ad43-4376-a22e-9430893bfcea",
   "metadata": {},
   "source": [
    "## 2.3 Series attributes"
   ]
  },
  {
   "cell_type": "code",
   "execution_count": 32,
   "id": "529fe34b-0828-4c47-b1a6-0025139e7e6c",
   "metadata": {},
   "outputs": [
    {
     "data": {
      "text/plain": [
       "array([125, 406, 342], dtype=int64)"
      ]
     },
     "execution_count": 32,
     "metadata": {},
     "output_type": "execute_result"
    }
   ],
   "source": [
    "diet.values"
   ]
  },
  {
   "cell_type": "code",
   "execution_count": 33,
   "id": "d17bb793-5f59-4c1b-9a77-62adb04e17c5",
   "metadata": {},
   "outputs": [
    {
     "data": {
      "text/plain": [
       "numpy.ndarray"
      ]
     },
     "execution_count": 33,
     "metadata": {},
     "output_type": "execute_result"
    }
   ],
   "source": [
    "type(diet.values)"
   ]
  },
  {
   "cell_type": "code",
   "execution_count": 34,
   "id": "b04adb0c-1e32-45e6-8f9c-4e39f4476b60",
   "metadata": {},
   "outputs": [
    {
     "data": {
      "text/plain": [
       "Index(['Cereal', 'Chocolate Bar', 'Ice Cream Sundae'], dtype='object')"
      ]
     },
     "execution_count": 34,
     "metadata": {},
     "output_type": "execute_result"
    }
   ],
   "source": [
    "diet.index"
   ]
  },
  {
   "cell_type": "code",
   "execution_count": 36,
   "id": "14c0aedb-88bc-4bfa-81c3-9ff820772a7f",
   "metadata": {},
   "outputs": [
    {
     "data": {
      "text/plain": [
       "pandas.core.indexes.base.Index"
      ]
     },
     "execution_count": 36,
     "metadata": {},
     "output_type": "execute_result"
    }
   ],
   "source": [
    "type(diet.index)"
   ]
  },
  {
   "cell_type": "code",
   "execution_count": 38,
   "id": "99539b81-537c-4ca2-aafe-d0facdace66e",
   "metadata": {},
   "outputs": [
    {
     "data": {
      "text/plain": [
       "dtype('int64')"
      ]
     },
     "execution_count": 38,
     "metadata": {},
     "output_type": "execute_result"
    }
   ],
   "source": [
    "diet.dtype"
   ]
  },
  {
   "cell_type": "code",
   "execution_count": 39,
   "id": "92dc78df-e3d6-4380-8018-0a1b249051f4",
   "metadata": {},
   "outputs": [
    {
     "data": {
      "text/plain": [
       "3"
      ]
     },
     "execution_count": 39,
     "metadata": {},
     "output_type": "execute_result"
    }
   ],
   "source": [
    "diet.size"
   ]
  },
  {
   "cell_type": "code",
   "execution_count": 40,
   "id": "57514b70-dec2-4872-a97e-11fc9c836146",
   "metadata": {},
   "outputs": [
    {
     "data": {
      "text/plain": [
       "(3,)"
      ]
     },
     "execution_count": 40,
     "metadata": {},
     "output_type": "execute_result"
    }
   ],
   "source": [
    "diet.shape"
   ]
  },
  {
   "cell_type": "code",
   "execution_count": 41,
   "id": "d67f725e-267e-43e5-8191-11596c33658f",
   "metadata": {},
   "outputs": [
    {
     "data": {
      "text/plain": [
       "True"
      ]
     },
     "execution_count": 41,
     "metadata": {},
     "output_type": "execute_result"
    }
   ],
   "source": [
    "diet.is_unique"
   ]
  },
  {
   "cell_type": "code",
   "execution_count": 43,
   "id": "01cfc70a-03f9-439c-911b-cc2d69dee522",
   "metadata": {},
   "outputs": [
    {
     "data": {
      "text/plain": [
       "False"
      ]
     },
     "execution_count": 43,
     "metadata": {},
     "output_type": "execute_result"
    }
   ],
   "source": [
    "pd.Series([3, 3]).is_unique"
   ]
  },
  {
   "cell_type": "code",
   "execution_count": 49,
   "id": "c3b5901b-5bb0-4c95-9c24-8d8bf20ea3eb",
   "metadata": {},
   "outputs": [
    {
     "data": {
      "text/plain": [
       "True"
      ]
     },
     "execution_count": 49,
     "metadata": {},
     "output_type": "execute_result"
    }
   ],
   "source": [
    "pd.Series(data=[1, 3, 6]).is_monotonic_increasing"
   ]
  },
  {
   "cell_type": "code",
   "execution_count": 50,
   "id": "7a665165-ef92-4ab7-981f-6185bc153431",
   "metadata": {},
   "outputs": [
    {
     "data": {
      "text/plain": [
       "False"
      ]
     },
     "execution_count": 50,
     "metadata": {},
     "output_type": "execute_result"
    }
   ],
   "source": [
    "pd.Series(data=[1, 6, 3]).is_monotonic_increasing"
   ]
  },
  {
   "cell_type": "code",
   "execution_count": 52,
   "id": "11a6f0ec-3e98-4d0f-916f-abda9cb4e668",
   "metadata": {},
   "outputs": [
    {
     "data": {
      "text/plain": [
       "True"
      ]
     },
     "execution_count": 52,
     "metadata": {},
     "output_type": "execute_result"
    }
   ],
   "source": [
    "pd.Series(data=[6, 3, 1]).is_monotonic_decreasing"
   ]
  },
  {
   "cell_type": "code",
   "execution_count": 53,
   "id": "00f03729-ed8c-4880-b4c9-273a8aed06e7",
   "metadata": {},
   "outputs": [
    {
     "data": {
      "text/plain": [
       "False"
      ]
     },
     "execution_count": 53,
     "metadata": {},
     "output_type": "execute_result"
    }
   ],
   "source": [
    "pd.Series(data=[1, 6, 3]).is_monotonic_decreasing"
   ]
  },
  {
   "cell_type": "markdown",
   "id": "6a6cf388-16eb-484e-97d5-3aa24ba454aa",
   "metadata": {},
   "source": [
    "## 2.4 Retrieving the first and last rows"
   ]
  },
  {
   "cell_type": "code",
   "execution_count": 54,
   "id": "ef7be717-739b-40a2-8483-fa4adb8fd74b",
   "metadata": {},
   "outputs": [
    {
     "data": {
      "text/plain": [
       "0       0\n",
       "1       5\n",
       "2      10\n",
       "3      15\n",
       "4      20\n",
       "     ... \n",
       "95    475\n",
       "96    480\n",
       "97    485\n",
       "98    490\n",
       "99    495\n",
       "Length: 100, dtype: int64"
      ]
     },
     "execution_count": 54,
     "metadata": {},
     "output_type": "execute_result"
    }
   ],
   "source": [
    "values = range(0, 500, 5)\n",
    "nums = pd.Series(data=values)\n",
    "nums"
   ]
  },
  {
   "cell_type": "code",
   "execution_count": 55,
   "id": "03572010-27b4-4a93-a62b-26e532f8bc69",
   "metadata": {},
   "outputs": [
    {
     "data": {
      "text/plain": [
       "0     0\n",
       "1     5\n",
       "2    10\n",
       "dtype: int64"
      ]
     },
     "execution_count": 55,
     "metadata": {},
     "output_type": "execute_result"
    }
   ],
   "source": [
    "nums.head(3)"
   ]
  },
  {
   "cell_type": "code",
   "execution_count": 56,
   "id": "7e1a1ef0-a884-43c8-a4a8-18b63e4857f6",
   "metadata": {},
   "outputs": [
    {
     "data": {
      "text/plain": [
       "0     0\n",
       "1     5\n",
       "2    10\n",
       "dtype: int64"
      ]
     },
     "execution_count": 56,
     "metadata": {},
     "output_type": "execute_result"
    }
   ],
   "source": [
    "nums.head(n=3)"
   ]
  },
  {
   "cell_type": "code",
   "execution_count": 57,
   "id": "84f1fc6b-72a6-4d3e-b4dd-05ca6af0ca6c",
   "metadata": {},
   "outputs": [
    {
     "data": {
      "text/plain": [
       "0     0\n",
       "1     5\n",
       "2    10\n",
       "3    15\n",
       "4    20\n",
       "dtype: int64"
      ]
     },
     "execution_count": 57,
     "metadata": {},
     "output_type": "execute_result"
    }
   ],
   "source": [
    "nums.head()"
   ]
  },
  {
   "cell_type": "code",
   "execution_count": 58,
   "id": "697b3549-cd09-4375-8623-1c29c0b83d18",
   "metadata": {},
   "outputs": [
    {
     "data": {
      "text/plain": [
       "94    470\n",
       "95    475\n",
       "96    480\n",
       "97    485\n",
       "98    490\n",
       "99    495\n",
       "dtype: int64"
      ]
     },
     "execution_count": 58,
     "metadata": {},
     "output_type": "execute_result"
    }
   ],
   "source": [
    "nums.tail(6)"
   ]
  },
  {
   "cell_type": "code",
   "execution_count": 59,
   "id": "3b08d698-901e-431a-af5a-030d969b2c10",
   "metadata": {},
   "outputs": [
    {
     "data": {
      "text/plain": [
       "95    475\n",
       "96    480\n",
       "97    485\n",
       "98    490\n",
       "99    495\n",
       "dtype: int64"
      ]
     },
     "execution_count": 59,
     "metadata": {},
     "output_type": "execute_result"
    }
   ],
   "source": [
    "nums.tail()"
   ]
  },
  {
   "cell_type": "markdown",
   "id": "881bf9d8-d3ed-4021-82bb-beabb04e158a",
   "metadata": {},
   "source": [
    "## 2.5 Mathematical operations"
   ]
  },
  {
   "cell_type": "markdown",
   "id": "25457b87-f5e3-4c7b-bacc-d2713ef07217",
   "metadata": {},
   "source": [
    "### 2.5.1 Statistical operations"
   ]
  },
  {
   "cell_type": "code",
   "execution_count": 85,
   "id": "00ab1d58-11c3-4a8d-a787-8f2f3c53a1b7",
   "metadata": {},
   "outputs": [
    {
     "data": {
      "text/plain": [
       "0    1.0\n",
       "1    2.0\n",
       "2    3.0\n",
       "3    NaN\n",
       "4    4.0\n",
       "5    5.0\n",
       "dtype: float64"
      ]
     },
     "execution_count": 85,
     "metadata": {},
     "output_type": "execute_result"
    }
   ],
   "source": [
    "numbers = pd.Series([1, 2, 3, np.nan, 4, 5])\n",
    "numbers"
   ]
  },
  {
   "cell_type": "code",
   "execution_count": 86,
   "id": "577c2d2b-69eb-42b9-a4e8-28b1dd306368",
   "metadata": {},
   "outputs": [
    {
     "data": {
      "text/plain": [
       "5"
      ]
     },
     "execution_count": 86,
     "metadata": {},
     "output_type": "execute_result"
    }
   ],
   "source": [
    "numbers.count()"
   ]
  },
  {
   "cell_type": "code",
   "execution_count": 87,
   "id": "e2910865-ab97-4e7b-84e1-f720aec94dbd",
   "metadata": {},
   "outputs": [
    {
     "data": {
      "text/plain": [
       "15.0"
      ]
     },
     "execution_count": 87,
     "metadata": {},
     "output_type": "execute_result"
    }
   ],
   "source": [
    "numbers.sum()"
   ]
  },
  {
   "cell_type": "code",
   "execution_count": 88,
   "id": "b456b3c6-b698-4040-a45c-dfaf140340e7",
   "metadata": {},
   "outputs": [
    {
     "data": {
      "text/plain": [
       "nan"
      ]
     },
     "execution_count": 88,
     "metadata": {},
     "output_type": "execute_result"
    }
   ],
   "source": [
    "numbers.sum(skipna=False)"
   ]
  },
  {
   "cell_type": "code",
   "execution_count": 89,
   "id": "143dc447-b370-4ffd-9bc5-e5f381779a62",
   "metadata": {},
   "outputs": [
    {
     "data": {
      "text/plain": [
       "15.0"
      ]
     },
     "execution_count": 89,
     "metadata": {},
     "output_type": "execute_result"
    }
   ],
   "source": [
    "numbers.sum(min_count=3)"
   ]
  },
  {
   "cell_type": "code",
   "execution_count": 90,
   "id": "9048499f-49e4-4f06-88b8-7e808ea17bb4",
   "metadata": {},
   "outputs": [
    {
     "data": {
      "text/plain": [
       "nan"
      ]
     },
     "execution_count": 90,
     "metadata": {},
     "output_type": "execute_result"
    }
   ],
   "source": [
    "numbers.sum(min_count=6)"
   ]
  },
  {
   "cell_type": "code",
   "execution_count": 91,
   "id": "6fcb0b6e-3f62-4b0b-a679-03e9dc19c2c0",
   "metadata": {},
   "outputs": [
    {
     "data": {
      "text/plain": [
       "120.0"
      ]
     },
     "execution_count": 91,
     "metadata": {},
     "output_type": "execute_result"
    }
   ],
   "source": [
    "numbers.product()"
   ]
  },
  {
   "cell_type": "code",
   "execution_count": 92,
   "id": "c4c92c08-0e21-4cc4-80bb-90ce5a705a15",
   "metadata": {},
   "outputs": [
    {
     "data": {
      "text/plain": [
       "nan"
      ]
     },
     "execution_count": 92,
     "metadata": {},
     "output_type": "execute_result"
    }
   ],
   "source": [
    "numbers.product(skipna=False)"
   ]
  },
  {
   "cell_type": "code",
   "execution_count": 93,
   "id": "a371430a-355b-42c6-bc22-290cb00f66a2",
   "metadata": {},
   "outputs": [
    {
     "data": {
      "text/plain": [
       "120.0"
      ]
     },
     "execution_count": 93,
     "metadata": {},
     "output_type": "execute_result"
    }
   ],
   "source": [
    "numbers.product(min_count=3)"
   ]
  },
  {
   "cell_type": "code",
   "execution_count": 94,
   "id": "d72ae73c-9658-4047-9909-b90122d363c9",
   "metadata": {},
   "outputs": [
    {
     "data": {
      "text/plain": [
       "0    1.0\n",
       "1    2.0\n",
       "2    3.0\n",
       "3    NaN\n",
       "4    4.0\n",
       "5    5.0\n",
       "dtype: float64"
      ]
     },
     "execution_count": 94,
     "metadata": {},
     "output_type": "execute_result"
    }
   ],
   "source": [
    "numbers"
   ]
  },
  {
   "cell_type": "code",
   "execution_count": 95,
   "id": "fb9b5011-2c82-46cb-9d59-d7856597cb20",
   "metadata": {},
   "outputs": [
    {
     "data": {
      "text/plain": [
       "0     1.0\n",
       "1     3.0\n",
       "2     6.0\n",
       "3     NaN\n",
       "4    10.0\n",
       "5    15.0\n",
       "dtype: float64"
      ]
     },
     "execution_count": 95,
     "metadata": {},
     "output_type": "execute_result"
    }
   ],
   "source": [
    "numbers.cumsum()"
   ]
  },
  {
   "cell_type": "code",
   "execution_count": 96,
   "id": "9427cc40-51dd-4a05-b211-fab13d8bb0c3",
   "metadata": {},
   "outputs": [
    {
     "data": {
      "text/plain": [
       "0    1.0\n",
       "1    3.0\n",
       "2    6.0\n",
       "3    NaN\n",
       "4    NaN\n",
       "5    NaN\n",
       "dtype: float64"
      ]
     },
     "execution_count": 96,
     "metadata": {},
     "output_type": "execute_result"
    }
   ],
   "source": [
    "numbers.cumsum(skipna=False)"
   ]
  },
  {
   "cell_type": "code",
   "execution_count": 97,
   "id": "e7f257fb-b1ce-48fc-8857-5277a185efee",
   "metadata": {},
   "outputs": [
    {
     "data": {
      "text/plain": [
       "0    1.0\n",
       "1    2.0\n",
       "2    3.0\n",
       "3    NaN\n",
       "4    4.0\n",
       "5    5.0\n",
       "dtype: float64"
      ]
     },
     "execution_count": 97,
     "metadata": {},
     "output_type": "execute_result"
    }
   ],
   "source": [
    "numbers"
   ]
  },
  {
   "cell_type": "code",
   "execution_count": 98,
   "id": "02b4feb6-52cd-40ab-b288-128e9cd03fac",
   "metadata": {},
   "outputs": [
    {
     "data": {
      "text/plain": [
       "0         NaN\n",
       "1    1.000000\n",
       "2    0.500000\n",
       "3    0.000000\n",
       "4    0.333333\n",
       "5    0.250000\n",
       "dtype: float64"
      ]
     },
     "execution_count": 98,
     "metadata": {},
     "output_type": "execute_result"
    }
   ],
   "source": [
    "numbers.pct_change()"
   ]
  },
  {
   "cell_type": "code",
   "execution_count": 99,
   "id": "ce7999de-402e-4859-a75f-e7d58777d85c",
   "metadata": {},
   "outputs": [
    {
     "data": {
      "text/plain": [
       "0         NaN\n",
       "1    1.000000\n",
       "2    0.500000\n",
       "3    0.000000\n",
       "4    0.333333\n",
       "5    0.250000\n",
       "dtype: float64"
      ]
     },
     "execution_count": 99,
     "metadata": {},
     "output_type": "execute_result"
    }
   ],
   "source": [
    "# The three lines below are equivalent\n",
    "numbers.pct_change()\n",
    "numbers.pct_change(fill_method=\"pad\")\n",
    "numbers.pct_change(fill_method=\"ffill\")"
   ]
  },
  {
   "attachments": {
    "fa2fd7ca-7749-475a-a73a-23ebf1bb35ee.png": {
     "image/png": "[encoded data removed]"
    }
   },
   "cell_type": "markdown",
   "id": "ca433e15-f6ce-42b2-9853-229d655f3ba6",
   "metadata": {},
   "source": [
    "![image.png](attachment:fa2fd7ca-7749-475a-a73a-23ebf1bb35ee.png)"
   ]
  },
  {
   "cell_type": "code",
   "execution_count": 100,
   "id": "83157f8e-f7a5-4b6c-9871-d81e0c5c2341",
   "metadata": {},
   "outputs": [
    {
     "data": {
      "text/plain": [
       "0         NaN\n",
       "1    1.000000\n",
       "2    0.500000\n",
       "3    0.333333\n",
       "4    0.000000\n",
       "5    0.250000\n",
       "dtype: float64"
      ]
     },
     "execution_count": 100,
     "metadata": {},
     "output_type": "execute_result"
    }
   ],
   "source": [
    "# The two lines below are equivalent\n",
    "numbers.pct_change(fill_method=\"bfill\")\n",
    "numbers.pct_change(fill_method=\"backfill\")"
   ]
  },
  {
   "attachments": {
    "56ef5034-45da-4ff3-a217-7757dedcdc49.png": {
     "image/png": "[encoded data removed]"
    }
   },
   "cell_type": "markdown",
   "id": "e1554586-9ece-4681-b839-77c983b2cf46",
   "metadata": {},
   "source": [
    "![image.png](attachment:56ef5034-45da-4ff3-a217-7757dedcdc49.png)"
   ]
  },
  {
   "cell_type": "code",
   "execution_count": 101,
   "id": "1eb4b1ed-2318-48b4-992a-b5057cd53c5c",
   "metadata": {},
   "outputs": [
    {
     "data": {
      "text/plain": [
       "3.0"
      ]
     },
     "execution_count": 101,
     "metadata": {},
     "output_type": "execute_result"
    }
   ],
   "source": [
    "numbers.mean()"
   ]
  },
  {
   "cell_type": "code",
   "execution_count": 102,
   "id": "5d9ee8be-41ed-48c0-8ad9-b13e3d1f8e0f",
   "metadata": {},
   "outputs": [
    {
     "data": {
      "text/plain": [
       "3.0"
      ]
     },
     "execution_count": 102,
     "metadata": {},
     "output_type": "execute_result"
    }
   ],
   "source": [
    "numbers.median()"
   ]
  },
  {
   "cell_type": "code",
   "execution_count": 103,
   "id": "8ee538b4-ddfb-4bf1-afee-659d773090e0",
   "metadata": {},
   "outputs": [
    {
     "data": {
      "text/plain": [
       "1.5811388300841898"
      ]
     },
     "execution_count": 103,
     "metadata": {},
     "output_type": "execute_result"
    }
   ],
   "source": [
    "numbers.std()"
   ]
  },
  {
   "cell_type": "code",
   "execution_count": 104,
   "id": "63af5d7d-5e71-46a0-8594-3077290da025",
   "metadata": {},
   "outputs": [
    {
     "data": {
      "text/plain": [
       "5.0"
      ]
     },
     "execution_count": 104,
     "metadata": {},
     "output_type": "execute_result"
    }
   ],
   "source": [
    "numbers.max()"
   ]
  },
  {
   "cell_type": "code",
   "execution_count": 105,
   "id": "d695061a-2a93-4c0a-9d90-ec9b59bbfa26",
   "metadata": {},
   "outputs": [
    {
     "data": {
      "text/plain": [
       "1.0"
      ]
     },
     "execution_count": 105,
     "metadata": {},
     "output_type": "execute_result"
    }
   ],
   "source": [
    "numbers.min()"
   ]
  },
  {
   "cell_type": "code",
   "execution_count": 106,
   "id": "e1b856b7-8a3d-4dc4-b328-7ce30230d2e0",
   "metadata": {},
   "outputs": [
    {
     "data": {
      "text/plain": [
       "0       koala\n",
       "1    aardvark\n",
       "2       zebra\n",
       "dtype: object"
      ]
     },
     "execution_count": 106,
     "metadata": {},
     "output_type": "execute_result"
    }
   ],
   "source": [
    "animals = pd.Series([\"koala\", \"aardvark\", \"zebra\"])\n",
    "animals"
   ]
  },
  {
   "cell_type": "code",
   "execution_count": 107,
   "id": "bab50c92-b7c6-4181-a863-2bb5ddd63fd9",
   "metadata": {},
   "outputs": [
    {
     "data": {
      "text/plain": [
       "'zebra'"
      ]
     },
     "execution_count": 107,
     "metadata": {},
     "output_type": "execute_result"
    }
   ],
   "source": [
    "animals.max()"
   ]
  },
  {
   "cell_type": "code",
   "execution_count": 108,
   "id": "2ca08b98-5c9a-4762-95df-19b67067ce23",
   "metadata": {},
   "outputs": [
    {
     "data": {
      "text/plain": [
       "'aardvark'"
      ]
     },
     "execution_count": 108,
     "metadata": {},
     "output_type": "execute_result"
    }
   ],
   "source": [
    "animals.min()"
   ]
  },
  {
   "cell_type": "code",
   "execution_count": 109,
   "id": "85da5ca1-33ca-4157-8475-54cc59f951cd",
   "metadata": {},
   "outputs": [
    {
     "data": {
      "text/plain": [
       "count    5.000000\n",
       "mean     3.000000\n",
       "std      1.581139\n",
       "min      1.000000\n",
       "25%      2.000000\n",
       "50%      3.000000\n",
       "75%      4.000000\n",
       "max      5.000000\n",
       "dtype: float64"
      ]
     },
     "execution_count": 109,
     "metadata": {},
     "output_type": "execute_result"
    }
   ],
   "source": [
    "numbers.describe()"
   ]
  },
  {
   "cell_type": "code",
   "execution_count": 125,
   "id": "eb2ed27c-2854-4c4d-bab4-583e6f8402a6",
   "metadata": {},
   "outputs": [
    {
     "data": {
      "text/plain": [
       "2    3.0\n",
       "3    NaN\n",
       "1    2.0\n",
       "dtype: float64"
      ]
     },
     "execution_count": 125,
     "metadata": {},
     "output_type": "execute_result"
    }
   ],
   "source": [
    "numbers.sample(3)"
   ]
  },
  {
   "cell_type": "code",
   "execution_count": 131,
   "id": "4f908f5a-d8f4-4df3-8f8f-ecd941ee0209",
   "metadata": {},
   "outputs": [
    {
     "data": {
      "text/plain": [
       "array(['Hemingway', 'Orwell', 'Dostoevsky', 'Fitzgerald'], dtype=object)"
      ]
     },
     "execution_count": 131,
     "metadata": {},
     "output_type": "execute_result"
    }
   ],
   "source": [
    "authors = pd.Series(\n",
    "    [\"Hemingway\", \"Orwell\", \"Dostoevsky\", \"Fitzgerald\", \"Orwell\"]\n",
    ")\n",
    "\n",
    "authors.unique()"
   ]
  },
  {
   "cell_type": "code",
   "execution_count": 134,
   "id": "cbbcbe49-a807-413b-b80b-76466ffe4291",
   "metadata": {},
   "outputs": [
    {
     "data": {
      "text/plain": [
       "4"
      ]
     },
     "execution_count": 134,
     "metadata": {},
     "output_type": "execute_result"
    }
   ],
   "source": [
    "authors.nunique()"
   ]
  },
  {
   "cell_type": "markdown",
   "id": "b6c42ca2-5a6c-4b17-a32d-1b3131548eb2",
   "metadata": {},
   "source": [
    "### 2.5.2 Arithmetic operations"
   ]
  },
  {
   "cell_type": "code",
   "execution_count": 135,
   "id": "16046564-066c-445c-ac78-2def2757c737",
   "metadata": {},
   "outputs": [
    {
     "data": {
      "text/plain": [
       "A     5.0\n",
       "B     NaN\n",
       "C    15.0\n",
       "dtype: float64"
      ]
     },
     "execution_count": 135,
     "metadata": {},
     "output_type": "execute_result"
    }
   ],
   "source": [
    "s1 = pd.Series(data=[5, np.nan, 15],  index=[\"A\", \"B\", \"C\"])\n",
    "s1"
   ]
  },
  {
   "cell_type": "code",
   "execution_count": 136,
   "id": "b9f1d7e1-b443-4dd9-95d0-f4fae8d8b1a0",
   "metadata": {},
   "outputs": [
    {
     "data": {
      "text/plain": [
       "A     8.0\n",
       "B     NaN\n",
       "C    18.0\n",
       "dtype: float64"
      ]
     },
     "execution_count": 136,
     "metadata": {},
     "output_type": "execute_result"
    }
   ],
   "source": [
    "s1 + 3"
   ]
  },
  {
   "cell_type": "code",
   "execution_count": 137,
   "id": "072a7e74-016f-4356-9a64-48bb5c0cb8b2",
   "metadata": {},
   "outputs": [
    {
     "data": {
      "text/plain": [
       "A     8.0\n",
       "B     NaN\n",
       "C    18.0\n",
       "dtype: float64"
      ]
     },
     "execution_count": 137,
     "metadata": {},
     "output_type": "execute_result"
    }
   ],
   "source": [
    "s1.add(3)"
   ]
  },
  {
   "cell_type": "code",
   "execution_count": 140,
   "id": "e2207040-e419-4005-8738-723fa4c4a97e",
   "metadata": {},
   "outputs": [
    {
     "data": {
      "text/plain": [
       "A     0.0\n",
       "B     NaN\n",
       "C    10.0\n",
       "dtype: float64"
      ]
     },
     "execution_count": 140,
     "metadata": {},
     "output_type": "execute_result"
    }
   ],
   "source": [
    "# The three lines below are equivalent\n",
    "s1 - 5\n",
    "s1.sub(5)\n",
    "s1.subtract(5)"
   ]
  },
  {
   "cell_type": "code",
   "execution_count": 143,
   "id": "a303ea7f-2da1-4e19-b5f3-520bf75ce771",
   "metadata": {},
   "outputs": [
    {
     "data": {
      "text/plain": [
       "A    10.0\n",
       "B     NaN\n",
       "C    30.0\n",
       "dtype: float64"
      ]
     },
     "execution_count": 143,
     "metadata": {},
     "output_type": "execute_result"
    }
   ],
   "source": [
    "# The three lines below are equivalent\n",
    "s1 * 2\n",
    "s1.mul(2)\n",
    "s1.multiply(2)"
   ]
  },
  {
   "cell_type": "code",
   "execution_count": 146,
   "id": "d7fe2ad2-8940-47eb-aaa6-4c448506cb1f",
   "metadata": {},
   "outputs": [
    {
     "data": {
      "text/plain": [
       "A    2.5\n",
       "B    NaN\n",
       "C    7.5\n",
       "dtype: float64"
      ]
     },
     "execution_count": 146,
     "metadata": {},
     "output_type": "execute_result"
    }
   ],
   "source": [
    "# The three lines below are equivalent\n",
    "s1 / 2\n",
    "s1.div(2)\n",
    "s1.divide(2)"
   ]
  },
  {
   "cell_type": "code",
   "execution_count": 148,
   "id": "13cc679f-a46e-4907-8d4a-4d5f29d56556",
   "metadata": {},
   "outputs": [
    {
     "data": {
      "text/plain": [
       "A    1.0\n",
       "B    NaN\n",
       "C    3.0\n",
       "dtype: float64"
      ]
     },
     "execution_count": 148,
     "metadata": {},
     "output_type": "execute_result"
    }
   ],
   "source": [
    "# The two lines below are equivalent\n",
    "s1 //  4\n",
    "s1.floordiv(4)"
   ]
  },
  {
   "cell_type": "code",
   "execution_count": 151,
   "id": "591de545-924b-4b2f-bd57-3ccace8b84df",
   "metadata": {},
   "outputs": [
    {
     "data": {
      "text/plain": [
       "A    2.0\n",
       "B    NaN\n",
       "C    0.0\n",
       "dtype: float64"
      ]
     },
     "execution_count": 151,
     "metadata": {},
     "output_type": "execute_result"
    }
   ],
   "source": [
    "# The two lines below are equivalent\n",
    "s1 % 3\n",
    "s1.mod(3)"
   ]
  },
  {
   "cell_type": "markdown",
   "id": "c1d8eb27-47a1-4c29-81ae-a9a494b2ce01",
   "metadata": {},
   "source": [
    "### 2.5.3 Broadcasting"
   ]
  },
  {
   "cell_type": "code",
   "execution_count": 152,
   "id": "b3175a19-2bf2-46af-bf86-d82629e075b9",
   "metadata": {},
   "outputs": [],
   "source": [
    "s1 = pd.Series([1, 2, 3], index=[\"A\", \"B\", \"C\"])\n",
    "s2 = pd.Series([4, 5, 6], index=[\"A\", \"B\", \"C\"])"
   ]
  },
  {
   "cell_type": "code",
   "execution_count": 153,
   "id": "27436fa5-d16d-48ee-a539-acf5984682e6",
   "metadata": {},
   "outputs": [
    {
     "data": {
      "text/plain": [
       "A    5\n",
       "B    7\n",
       "C    9\n",
       "dtype: int64"
      ]
     },
     "execution_count": 153,
     "metadata": {},
     "output_type": "execute_result"
    }
   ],
   "source": [
    "s1 + s2"
   ]
  },
  {
   "cell_type": "code",
   "execution_count": 154,
   "id": "0d6e47c0-b703-4c42-a4f0-46bdcf2095fe",
   "metadata": {},
   "outputs": [],
   "source": [
    "s1 = pd.Series(data=[3, 6, np.nan, 12])\n",
    "s2 = pd.Series(data=[3, 6, np.nan, 12])"
   ]
  },
  {
   "cell_type": "code",
   "execution_count": 158,
   "id": "a4024bff-f86f-46ed-9133-ba65a3d38b29",
   "metadata": {},
   "outputs": [
    {
     "data": {
      "text/plain": [
       "0     True\n",
       "1     True\n",
       "2    False\n",
       "3     True\n",
       "dtype: bool"
      ]
     },
     "execution_count": 158,
     "metadata": {},
     "output_type": "execute_result"
    }
   ],
   "source": [
    "# The two lines below are equivalent\n",
    "s1 == s2\n",
    "s1.eq(s2)"
   ]
  },
  {
   "cell_type": "code",
   "execution_count": 161,
   "id": "493d92f1-49eb-45a7-b82c-0f1ed4d7524d",
   "metadata": {},
   "outputs": [
    {
     "data": {
      "text/plain": [
       "0    False\n",
       "1    False\n",
       "2     True\n",
       "3    False\n",
       "dtype: bool"
      ]
     },
     "execution_count": 161,
     "metadata": {},
     "output_type": "execute_result"
    }
   ],
   "source": [
    "# The two lines below are equivalent\n",
    "s1 != s2\n",
    "s1.ne(s2)"
   ]
  },
  {
   "cell_type": "code",
   "execution_count": 162,
   "id": "533b1b6f-8c2e-425e-923c-895203c3fdfd",
   "metadata": {},
   "outputs": [],
   "source": [
    "# when the indices differ\n",
    "s1 = pd.Series(data=[5, 10, 15], index=[\"A\", \"B\", \"C\"])\n",
    "s2 = pd.Series(data=[4, 8, 12, 14], index=[\"B\", \"C\", \"D\", \"E\"])"
   ]
  },
  {
   "cell_type": "code",
   "execution_count": 163,
   "id": "d8fd376c-59cb-46d5-ae00-385e5c445198",
   "metadata": {},
   "outputs": [
    {
     "data": {
      "text/plain": [
       "A     NaN\n",
       "B    14.0\n",
       "C    23.0\n",
       "D     NaN\n",
       "E     NaN\n",
       "dtype: float64"
      ]
     },
     "execution_count": 163,
     "metadata": {},
     "output_type": "execute_result"
    }
   ],
   "source": [
    "s1 + s2"
   ]
  },
  {
   "attachments": {
    "4bf8301a-23bc-476c-9d9a-5376ea7239d7.png": {
     "image/png": "[encoded data removed]"
    }
   },
   "cell_type": "markdown",
   "id": "da9e6dd1-61a6-49a7-8fa9-41b6e5c64a75",
   "metadata": {},
   "source": [
    "![image.png](attachment:4bf8301a-23bc-476c-9d9a-5376ea7239d7.png)"
   ]
  },
  {
   "cell_type": "markdown",
   "id": "9e10c8de-61c5-4312-a260-4a37268f1d27",
   "metadata": {},
   "source": [
    "## 2.6 Passing the Series to Python's built-in functions"
   ]
  },
  {
   "cell_type": "code",
   "execution_count": 164,
   "id": "5d50218d-86c7-41bb-8087-0b4155d9d139",
   "metadata": {},
   "outputs": [],
   "source": [
    "cities = pd.Series(data=[\"San Francisco\", \"Los Angeles\", \"Las Vegas\", np.nan])"
   ]
  },
  {
   "cell_type": "code",
   "execution_count": 165,
   "id": "84900f7e-395d-457d-8680-e23c29bb3c3e",
   "metadata": {},
   "outputs": [
    {
     "data": {
      "text/plain": [
       "4"
      ]
     },
     "execution_count": 165,
     "metadata": {},
     "output_type": "execute_result"
    }
   ],
   "source": [
    "len(cities)"
   ]
  },
  {
   "cell_type": "code",
   "execution_count": 167,
   "id": "57bd4340-29e0-4ebb-8db5-0d04e01bb898",
   "metadata": {},
   "outputs": [
    {
     "data": {
      "text/plain": [
       "pandas.core.series.Series"
      ]
     },
     "execution_count": 167,
     "metadata": {},
     "output_type": "execute_result"
    }
   ],
   "source": [
    "type(cities)"
   ]
  },
  {
   "cell_type": "code",
   "execution_count": 168,
   "id": "2c89cf78-28e9-45eb-ab52-4bda87a033b2",
   "metadata": {},
   "outputs": [
    {
     "data": {
      "text/plain": [
       "['T',\n",
       " '_AXIS_LEN',\n",
       " '_AXIS_ORDERS',\n",
       " '_AXIS_TO_AXIS_NUMBER',\n",
       " '_HANDLED_TYPES',\n",
       " '__abs__',\n",
       " '__add__',\n",
       " '__and__',\n",
       " '__annotations__',\n",
       " '__array__',\n",
       " '__array_priority__',\n",
       " '__array_ufunc__',\n",
       " '__bool__',\n",
       " '__class__',\n",
       " '__contains__',\n",
       " '__copy__',\n",
       " '__deepcopy__',\n",
       " '__delattr__',\n",
       " '__delitem__',\n",
       " '__dict__',\n",
       " '__dir__',\n",
       " '__divmod__',\n",
       " '__doc__',\n",
       " '__eq__',\n",
       " '__finalize__',\n",
       " '__float__',\n",
       " '__floordiv__',\n",
       " '__format__',\n",
       " '__ge__',\n",
       " '__getattr__',\n",
       " '__getattribute__',\n",
       " '__getitem__',\n",
       " '__getstate__',\n",
       " '__gt__',\n",
       " '__hash__',\n",
       " '__iadd__',\n",
       " '__iand__',\n",
       " '__ifloordiv__',\n",
       " '__imod__',\n",
       " '__imul__',\n",
       " '__init__',\n",
       " '__init_subclass__',\n",
       " '__int__',\n",
       " '__invert__',\n",
       " '__ior__',\n",
       " '__ipow__',\n",
       " '__isub__',\n",
       " '__iter__',\n",
       " '__itruediv__',\n",
       " '__ixor__',\n",
       " '__le__',\n",
       " '__len__',\n",
       " '__lt__',\n",
       " '__matmul__',\n",
       " '__mod__',\n",
       " '__module__',\n",
       " '__mul__',\n",
       " '__ne__',\n",
       " '__neg__',\n",
       " '__new__',\n",
       " '__nonzero__',\n",
       " '__or__',\n",
       " '__pos__',\n",
       " '__pow__',\n",
       " '__radd__',\n",
       " '__rand__',\n",
       " '__rdivmod__',\n",
       " '__reduce__',\n",
       " '__reduce_ex__',\n",
       " '__repr__',\n",
       " '__rfloordiv__',\n",
       " '__rmatmul__',\n",
       " '__rmod__',\n",
       " '__rmul__',\n",
       " '__ror__',\n",
       " '__round__',\n",
       " '__rpow__',\n",
       " '__rsub__',\n",
       " '__rtruediv__',\n",
       " '__rxor__',\n",
       " '__setattr__',\n",
       " '__setitem__',\n",
       " '__setstate__',\n",
       " '__sizeof__',\n",
       " '__str__',\n",
       " '__sub__',\n",
       " '__subclasshook__',\n",
       " '__truediv__',\n",
       " '__weakref__',\n",
       " '__xor__',\n",
       " '_accessors',\n",
       " '_accum_func',\n",
       " '_add_numeric_operations',\n",
       " '_agg_examples_doc',\n",
       " '_agg_see_also_doc',\n",
       " '_align_frame',\n",
       " '_align_series',\n",
       " '_append',\n",
       " '_arith_method',\n",
       " '_as_manager',\n",
       " '_attrs',\n",
       " '_binop',\n",
       " '_can_hold_na',\n",
       " '_check_inplace_and_allows_duplicate_labels',\n",
       " '_check_inplace_setting',\n",
       " '_check_is_chained_assignment_possible',\n",
       " '_check_label_or_level_ambiguity',\n",
       " '_check_setitem_copy',\n",
       " '_clear_item_cache',\n",
       " '_clip_with_one_bound',\n",
       " '_clip_with_scalar',\n",
       " '_cmp_method',\n",
       " '_consolidate',\n",
       " '_consolidate_inplace',\n",
       " '_construct_axes_dict',\n",
       " '_construct_result',\n",
       " '_constructor',\n",
       " '_constructor_expanddim',\n",
       " '_convert_dtypes',\n",
       " '_data',\n",
       " '_dir_additions',\n",
       " '_dir_deletions',\n",
       " '_drop_axis',\n",
       " '_drop_labels_or_levels',\n",
       " '_duplicated',\n",
       " '_find_valid_index',\n",
       " '_flags',\n",
       " '_get_axis',\n",
       " '_get_axis_name',\n",
       " '_get_axis_number',\n",
       " '_get_axis_resolvers',\n",
       " '_get_block_manager_axis',\n",
       " '_get_bool_data',\n",
       " '_get_cacher',\n",
       " '_get_cleaned_column_resolvers',\n",
       " '_get_index_resolvers',\n",
       " '_get_label_or_level_values',\n",
       " '_get_numeric_data',\n",
       " '_get_value',\n",
       " '_get_values',\n",
       " '_get_values_tuple',\n",
       " '_get_with',\n",
       " '_gotitem',\n",
       " '_hidden_attrs',\n",
       " '_indexed_same',\n",
       " '_info_axis',\n",
       " '_info_axis_name',\n",
       " '_info_axis_number',\n",
       " '_init_dict',\n",
       " '_init_mgr',\n",
       " '_inplace_method',\n",
       " '_internal_names',\n",
       " '_internal_names_set',\n",
       " '_is_cached',\n",
       " '_is_copy',\n",
       " '_is_label_or_level_reference',\n",
       " '_is_label_reference',\n",
       " '_is_level_reference',\n",
       " '_is_mixed_type',\n",
       " '_is_view',\n",
       " '_item_cache',\n",
       " '_ixs',\n",
       " '_logical_func',\n",
       " '_logical_method',\n",
       " '_map_values',\n",
       " '_maybe_update_cacher',\n",
       " '_memory_usage',\n",
       " '_metadata',\n",
       " '_mgr',\n",
       " '_min_count_stat_function',\n",
       " '_name',\n",
       " '_needs_reindex_multi',\n",
       " '_protect_consolidate',\n",
       " '_reduce',\n",
       " '_references',\n",
       " '_reindex_axes',\n",
       " '_reindex_indexer',\n",
       " '_reindex_multi',\n",
       " '_reindex_with_indexers',\n",
       " '_rename',\n",
       " '_replace_single',\n",
       " '_repr_data_resource_',\n",
       " '_repr_latex_',\n",
       " '_reset_cache',\n",
       " '_reset_cacher',\n",
       " '_set_as_cached',\n",
       " '_set_axis',\n",
       " '_set_axis_name',\n",
       " '_set_axis_nocheck',\n",
       " '_set_is_copy',\n",
       " '_set_labels',\n",
       " '_set_name',\n",
       " '_set_value',\n",
       " '_set_values',\n",
       " '_set_with',\n",
       " '_set_with_engine',\n",
       " '_slice',\n",
       " '_stat_axis',\n",
       " '_stat_axis_name',\n",
       " '_stat_axis_number',\n",
       " '_stat_function',\n",
       " '_stat_function_ddof',\n",
       " '_take',\n",
       " '_take_with_is_copy',\n",
       " '_to_latex_via_styler',\n",
       " '_typ',\n",
       " '_update_inplace',\n",
       " '_validate_dtype',\n",
       " '_values',\n",
       " '_where',\n",
       " 'abs',\n",
       " 'add',\n",
       " 'add_prefix',\n",
       " 'add_suffix',\n",
       " 'agg',\n",
       " 'aggregate',\n",
       " 'align',\n",
       " 'all',\n",
       " 'any',\n",
       " 'apply',\n",
       " 'argmax',\n",
       " 'argmin',\n",
       " 'argsort',\n",
       " 'array',\n",
       " 'asfreq',\n",
       " 'asof',\n",
       " 'astype',\n",
       " 'at',\n",
       " 'at_time',\n",
       " 'attrs',\n",
       " 'autocorr',\n",
       " 'axes',\n",
       " 'backfill',\n",
       " 'between',\n",
       " 'between_time',\n",
       " 'bfill',\n",
       " 'bool',\n",
       " 'clip',\n",
       " 'combine',\n",
       " 'combine_first',\n",
       " 'compare',\n",
       " 'convert_dtypes',\n",
       " 'copy',\n",
       " 'corr',\n",
       " 'count',\n",
       " 'cov',\n",
       " 'cummax',\n",
       " 'cummin',\n",
       " 'cumprod',\n",
       " 'cumsum',\n",
       " 'describe',\n",
       " 'diff',\n",
       " 'div',\n",
       " 'divide',\n",
       " 'divmod',\n",
       " 'dot',\n",
       " 'drop',\n",
       " 'drop_duplicates',\n",
       " 'droplevel',\n",
       " 'dropna',\n",
       " 'dtype',\n",
       " 'dtypes',\n",
       " 'duplicated',\n",
       " 'empty',\n",
       " 'eq',\n",
       " 'equals',\n",
       " 'ewm',\n",
       " 'expanding',\n",
       " 'explode',\n",
       " 'factorize',\n",
       " 'ffill',\n",
       " 'fillna',\n",
       " 'filter',\n",
       " 'first',\n",
       " 'first_valid_index',\n",
       " 'flags',\n",
       " 'floordiv',\n",
       " 'ge',\n",
       " 'get',\n",
       " 'groupby',\n",
       " 'gt',\n",
       " 'hasnans',\n",
       " 'head',\n",
       " 'hist',\n",
       " 'iat',\n",
       " 'idxmax',\n",
       " 'idxmin',\n",
       " 'iloc',\n",
       " 'index',\n",
       " 'infer_objects',\n",
       " 'info',\n",
       " 'interpolate',\n",
       " 'is_monotonic_decreasing',\n",
       " 'is_monotonic_increasing',\n",
       " 'is_unique',\n",
       " 'isin',\n",
       " 'isna',\n",
       " 'isnull',\n",
       " 'item',\n",
       " 'items',\n",
       " 'keys',\n",
       " 'kurt',\n",
       " 'kurtosis',\n",
       " 'last',\n",
       " 'last_valid_index',\n",
       " 'le',\n",
       " 'loc',\n",
       " 'lt',\n",
       " 'map',\n",
       " 'mask',\n",
       " 'max',\n",
       " 'mean',\n",
       " 'median',\n",
       " 'memory_usage',\n",
       " 'min',\n",
       " 'mod',\n",
       " 'mode',\n",
       " 'mul',\n",
       " 'multiply',\n",
       " 'name',\n",
       " 'nbytes',\n",
       " 'ndim',\n",
       " 'ne',\n",
       " 'nlargest',\n",
       " 'notna',\n",
       " 'notnull',\n",
       " 'nsmallest',\n",
       " 'nunique',\n",
       " 'pad',\n",
       " 'pct_change',\n",
       " 'pipe',\n",
       " 'plot',\n",
       " 'pop',\n",
       " 'pow',\n",
       " 'prod',\n",
       " 'product',\n",
       " 'quantile',\n",
       " 'radd',\n",
       " 'rank',\n",
       " 'ravel',\n",
       " 'rdiv',\n",
       " 'rdivmod',\n",
       " 'reindex',\n",
       " 'reindex_like',\n",
       " 'rename',\n",
       " 'rename_axis',\n",
       " 'reorder_levels',\n",
       " 'repeat',\n",
       " 'replace',\n",
       " 'resample',\n",
       " 'reset_index',\n",
       " 'rfloordiv',\n",
       " 'rmod',\n",
       " 'rmul',\n",
       " 'rolling',\n",
       " 'round',\n",
       " 'rpow',\n",
       " 'rsub',\n",
       " 'rtruediv',\n",
       " 'sample',\n",
       " 'searchsorted',\n",
       " 'sem',\n",
       " 'set_axis',\n",
       " 'set_flags',\n",
       " 'shape',\n",
       " 'shift',\n",
       " 'size',\n",
       " 'skew',\n",
       " 'sort_index',\n",
       " 'sort_values',\n",
       " 'squeeze',\n",
       " 'std',\n",
       " 'str',\n",
       " 'sub',\n",
       " 'subtract',\n",
       " 'sum',\n",
       " 'swapaxes',\n",
       " 'swaplevel',\n",
       " 'tail',\n",
       " 'take',\n",
       " 'to_clipboard',\n",
       " 'to_csv',\n",
       " 'to_dict',\n",
       " 'to_excel',\n",
       " 'to_frame',\n",
       " 'to_hdf',\n",
       " 'to_json',\n",
       " 'to_latex',\n",
       " 'to_list',\n",
       " 'to_markdown',\n",
       " 'to_numpy',\n",
       " 'to_period',\n",
       " 'to_pickle',\n",
       " 'to_sql',\n",
       " 'to_string',\n",
       " 'to_timestamp',\n",
       " 'to_xarray',\n",
       " 'transform',\n",
       " 'transpose',\n",
       " 'truediv',\n",
       " 'truncate',\n",
       " 'tz_convert',\n",
       " 'tz_localize',\n",
       " 'unique',\n",
       " 'unstack',\n",
       " 'update',\n",
       " 'value_counts',\n",
       " 'values',\n",
       " 'var',\n",
       " 'view',\n",
       " 'where',\n",
       " 'xs']"
      ]
     },
     "execution_count": 168,
     "metadata": {},
     "output_type": "execute_result"
    }
   ],
   "source": [
    "dir(cities)"
   ]
  },
  {
   "cell_type": "code",
   "execution_count": 169,
   "id": "4e83439f-66a6-4553-9a69-a55ee01df895",
   "metadata": {},
   "outputs": [
    {
     "data": {
      "text/plain": [
       "['San Francisco', 'Los Angeles', 'Las Vegas', nan]"
      ]
     },
     "execution_count": 169,
     "metadata": {},
     "output_type": "execute_result"
    }
   ],
   "source": [
    "list(cities)"
   ]
  },
  {
   "cell_type": "code",
   "execution_count": 170,
   "id": "3467af79-bb8b-4b36-83dd-22162c66ec04",
   "metadata": {},
   "outputs": [
    {
     "data": {
      "text/plain": [
       "{0: 'San Francisco', 1: 'Los Angeles', 2: 'Las Vegas', 3: nan}"
      ]
     },
     "execution_count": 170,
     "metadata": {},
     "output_type": "execute_result"
    }
   ],
   "source": [
    "dict(cities)"
   ]
  },
  {
   "cell_type": "code",
   "execution_count": 171,
   "id": "e84da438-1636-4990-93a9-1d7e66e4f4fb",
   "metadata": {},
   "outputs": [
    {
     "data": {
      "text/plain": [
       "0    San Francisco\n",
       "1      Los Angeles\n",
       "2        Las Vegas\n",
       "3              NaN\n",
       "dtype: object"
      ]
     },
     "execution_count": 171,
     "metadata": {},
     "output_type": "execute_result"
    }
   ],
   "source": [
    "cities"
   ]
  },
  {
   "cell_type": "code",
   "execution_count": 175,
   "id": "d723532a-4800-43eb-a990-606243768588",
   "metadata": {},
   "outputs": [
    {
     "data": {
      "text/plain": [
       "0    San Francisco\n",
       "1      Los Angeles\n",
       "2        Las Vegas\n",
       "3              NaN\n",
       "dtype: object"
      ]
     },
     "execution_count": 175,
     "metadata": {},
     "output_type": "execute_result"
    }
   ],
   "source": [
    "cities"
   ]
  },
  {
   "cell_type": "code",
   "execution_count": 173,
   "id": "ce15c65b-10de-4600-a26a-76f06d2228ff",
   "metadata": {},
   "outputs": [
    {
     "data": {
      "text/plain": [
       "False"
      ]
     },
     "execution_count": 173,
     "metadata": {},
     "output_type": "execute_result"
    }
   ],
   "source": [
    "\"Las Vegas\" in cities"
   ]
  },
  {
   "cell_type": "code",
   "execution_count": 174,
   "id": "a5d71a2f-19a8-4626-ad3e-ae000e4319c1",
   "metadata": {},
   "outputs": [
    {
     "data": {
      "text/plain": [
       "True"
      ]
     },
     "execution_count": 174,
     "metadata": {},
     "output_type": "execute_result"
    }
   ],
   "source": [
    "2 in cities"
   ]
  },
  {
   "cell_type": "code",
   "execution_count": 176,
   "id": "254ac9cb-31ae-480f-8de8-bda255d57f52",
   "metadata": {},
   "outputs": [
    {
     "data": {
      "text/plain": [
       "True"
      ]
     },
     "execution_count": 176,
     "metadata": {},
     "output_type": "execute_result"
    }
   ],
   "source": [
    "\"Las Vegas\" in cities.values"
   ]
  },
  {
   "cell_type": "code",
   "execution_count": 177,
   "id": "c1f6d7de-b2cb-41ca-9787-7e3fbbfa37ca",
   "metadata": {},
   "outputs": [
    {
     "data": {
      "text/plain": [
       "True"
      ]
     },
     "execution_count": 177,
     "metadata": {},
     "output_type": "execute_result"
    }
   ],
   "source": [
    "100 not in cities"
   ]
  },
  {
   "cell_type": "code",
   "execution_count": 178,
   "id": "f7f81c2d-49f7-46e6-8b03-f392644c14cc",
   "metadata": {},
   "outputs": [
    {
     "data": {
      "text/plain": [
       "True"
      ]
     },
     "execution_count": 178,
     "metadata": {},
     "output_type": "execute_result"
    }
   ],
   "source": [
    "\"Paris\" not in cities.values"
   ]
  },
  {
   "cell_type": "markdown",
   "id": "c1209df4-ae9c-4fac-876c-c2d79a84beda",
   "metadata": {},
   "source": [
    "## 2.7 Coding challenge"
   ]
  },
  {
   "cell_type": "markdown",
   "id": "e47f80e6-b8be-4cc2-9afc-3fcead4e18b5",
   "metadata": {},
   "source": [
    "### 2.7.1 Problems"
   ]
  },
  {
   "cell_type": "code",
   "execution_count": 179,
   "id": "44e991af-6bb8-49b4-b85f-c9b072016516",
   "metadata": {},
   "outputs": [],
   "source": [
    "superheroes = [\n",
    "    \"Batman\",\n",
    "    \"Superman\",\n",
    "    \"Spider-Man\",\n",
    "    \"Iron Man\",\n",
    "    \"Captain America\",\n",
    "    \"Wonder Woman\"\n",
    "]\n",
    "\n",
    "strengh_levels = (100, 120, 90, 95, 110, 120)"
   ]
  },
  {
   "cell_type": "markdown",
   "id": "720e40a0-36b8-4b0c-a59b-83008305ab33",
   "metadata": {},
   "source": [
    "### 2.7.2 Solutions"
   ]
  },
  {
   "cell_type": "code",
   "execution_count": 180,
   "id": "8bff7cf8-37a6-492b-8950-d98db3047108",
   "metadata": {},
   "outputs": [
    {
     "data": {
      "text/plain": [
       "0             Batman\n",
       "1           Superman\n",
       "2         Spider-Man\n",
       "3           Iron Man\n",
       "4    Captain America\n",
       "5       Wonder Woman\n",
       "dtype: object"
      ]
     },
     "execution_count": 180,
     "metadata": {},
     "output_type": "execute_result"
    }
   ],
   "source": [
    "# 1. Use the list of superheroes to populate a new Series object.\n",
    "pd.Series(superheroes)"
   ]
  },
  {
   "cell_type": "code",
   "execution_count": 181,
   "id": "6375f724-3a01-4494-a221-9f1a0daa0757",
   "metadata": {},
   "outputs": [
    {
     "data": {
      "text/plain": [
       "0    100\n",
       "1    120\n",
       "2     90\n",
       "3     95\n",
       "4    110\n",
       "5    120\n",
       "dtype: int64"
      ]
     },
     "execution_count": 181,
     "metadata": {},
     "output_type": "execute_result"
    }
   ],
   "source": [
    "# 2. Use the tuple of strengths to populate a new Series object.\n",
    "pd.Series(data=strengh_levels)"
   ]
  },
  {
   "cell_type": "code",
   "execution_count": 183,
   "id": "de4663d4-386e-41f4-b791-d17b16550b75",
   "metadata": {},
   "outputs": [
    {
     "data": {
      "text/plain": [
       "Batman             100\n",
       "Superman           120\n",
       "Spider-Man          90\n",
       "Iron Man            95\n",
       "Captain America    110\n",
       "Wonder Woman       120\n",
       "dtype: int64"
      ]
     },
     "execution_count": 183,
     "metadata": {},
     "output_type": "execute_result"
    }
   ],
   "source": [
    "# 3. Create a Series with the superheroes as index labels and the strength levels as\n",
    "# the values. Assign the Series to a heroes variable.\n",
    "heroes = pd.Series(data=strengh_levels, index=superheroes)\n",
    "heroes"
   ]
  },
  {
   "cell_type": "code",
   "execution_count": 184,
   "id": "322cb057-f467-4fed-99da-01c60dfcae26",
   "metadata": {},
   "outputs": [
    {
     "data": {
      "text/plain": [
       "Batman      100\n",
       "Superman    120\n",
       "dtype: int64"
      ]
     },
     "execution_count": 184,
     "metadata": {},
     "output_type": "execute_result"
    }
   ],
   "source": [
    "# 4. Extract the first two rows of the heroes Series.\n",
    "heroes.head(2)"
   ]
  },
  {
   "cell_type": "code",
   "execution_count": 185,
   "id": "feb8c998-cc03-4fab-be10-f39434932b13",
   "metadata": {},
   "outputs": [
    {
     "data": {
      "text/plain": [
       "Spider-Man          90\n",
       "Iron Man            95\n",
       "Captain America    110\n",
       "Wonder Woman       120\n",
       "dtype: int64"
      ]
     },
     "execution_count": 185,
     "metadata": {},
     "output_type": "execute_result"
    }
   ],
   "source": [
    "# 5. Extract the last four rows of the heroes Series.\n",
    "heroes.tail(4)"
   ]
  },
  {
   "cell_type": "code",
   "execution_count": 186,
   "id": "0cc2652e-2933-4a01-84e0-6d5a26308926",
   "metadata": {},
   "outputs": [
    {
     "data": {
      "text/plain": [
       "5"
      ]
     },
     "execution_count": 186,
     "metadata": {},
     "output_type": "execute_result"
    }
   ],
   "source": [
    "# 6. Determine the number of unique values in your heroes Series.\n",
    "heroes.nunique()"
   ]
  },
  {
   "cell_type": "code",
   "execution_count": 187,
   "id": "7b166ad9-a8b0-4316-aa6d-ea07c4a05a8a",
   "metadata": {},
   "outputs": [
    {
     "data": {
      "text/plain": [
       "105.83333333333333"
      ]
     },
     "execution_count": 187,
     "metadata": {},
     "output_type": "execute_result"
    }
   ],
   "source": [
    "# 7. Calculate the average strength of the superheroes in heroes.\n",
    "heroes.mean()"
   ]
  },
  {
   "cell_type": "code",
   "execution_count": 188,
   "id": "5cde0eed-69c1-43a9-80ef-b7b28a2ab2f8",
   "metadata": {},
   "outputs": [
    {
     "data": {
      "text/plain": [
       "120"
      ]
     },
     "execution_count": 188,
     "metadata": {},
     "output_type": "execute_result"
    }
   ],
   "source": [
    "# 8. Calculate the maximum and mbinimum strengths in heroes.\n",
    "heroes.max()"
   ]
  },
  {
   "cell_type": "code",
   "execution_count": null,
   "id": "499f17a3-b06e-46be-a83e-bc0d83bd187e",
   "metadata": {},
   "outputs": [],
   "source": [
    "# 9. Calculate what each superhero’s strength level would be if it doubled."
   ]
  },
  {
   "cell_type": "code",
   "execution_count": null,
   "id": "6756167f-d615-4003-8f9c-b772a9adb9b3",
   "metadata": {},
   "outputs": [],
   "source": [
    "# 10. Convert the heroes Series to a Python dictionary."
   ]
  }
 ],
 "metadata": {
  "kernelspec": {
   "display_name": "Python 3 (ipykernel)",
   "language": "python",
   "name": "python3"
  },
  "language_info": {
   "codemirror_mode": {
    "name": "ipython",
    "version": 3
   },
   "file_extension": ".py",
   "mimetype": "text/x-python",
   "name": "python",
   "nbconvert_exporter": "python",
   "pygments_lexer": "ipython3",
   "version": "3.11.3"
  }
 },
 "nbformat": 4,
 "nbformat_minor": 5
}
