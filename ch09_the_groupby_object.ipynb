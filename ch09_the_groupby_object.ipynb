{
 "cells": [
  {
   "cell_type": "markdown",
   "id": "34b15610-8147-4bdd-9a61-23ea8c69bae6",
   "metadata": {},
   "source": [
    "# Chapter 9: The GroupBy object"
   ]
  },
  {
   "cell_type": "markdown",
   "id": "c53bc02e-c90c-41b9-b397-39828a448f3a",
   "metadata": {},
   "source": [
    "## 9.1 Creating a GroupBy object from scratch"
   ]
  },
  {
   "cell_type": "code",
   "execution_count": 1,
   "id": "bdccf2c7-2325-4880-a398-8458bbf7be74",
   "metadata": {},
   "outputs": [],
   "source": [
    "import pandas as pd"
   ]
  },
  {
   "cell_type": "code",
   "execution_count": 2,
   "id": "79290a13-2049-4cc0-919c-f7b338b2f522",
   "metadata": {},
   "outputs": [
    {
     "data": {
      "text/html": [
       "<div>\n",
       "<style scoped>\n",
       "    .dataframe tbody tr th:only-of-type {\n",
       "        vertical-align: middle;\n",
       "    }\n",
       "\n",
       "    .dataframe tbody tr th {\n",
       "        vertical-align: top;\n",
       "    }\n",
       "\n",
       "    .dataframe thead th {\n",
       "        text-align: right;\n",
       "    }\n",
       "</style>\n",
       "<table border=\"1\" class=\"dataframe\">\n",
       "  <thead>\n",
       "    <tr style=\"text-align: right;\">\n",
       "      <th></th>\n",
       "      <th>Item</th>\n",
       "      <th>Type</th>\n",
       "      <th>Price</th>\n",
       "    </tr>\n",
       "  </thead>\n",
       "  <tbody>\n",
       "    <tr>\n",
       "      <th>0</th>\n",
       "      <td>Banana</td>\n",
       "      <td>Fruit</td>\n",
       "      <td>0.99</td>\n",
       "    </tr>\n",
       "    <tr>\n",
       "      <th>1</th>\n",
       "      <td>Cucumber</td>\n",
       "      <td>Vegetable</td>\n",
       "      <td>1.25</td>\n",
       "    </tr>\n",
       "    <tr>\n",
       "      <th>2</th>\n",
       "      <td>Orange</td>\n",
       "      <td>Fruit</td>\n",
       "      <td>0.25</td>\n",
       "    </tr>\n",
       "    <tr>\n",
       "      <th>3</th>\n",
       "      <td>Tomato</td>\n",
       "      <td>Vegetable</td>\n",
       "      <td>0.33</td>\n",
       "    </tr>\n",
       "    <tr>\n",
       "      <th>4</th>\n",
       "      <td>Watermelon</td>\n",
       "      <td>Fruit</td>\n",
       "      <td>3.00</td>\n",
       "    </tr>\n",
       "  </tbody>\n",
       "</table>\n",
       "</div>"
      ],
      "text/plain": [
       "         Item       Type  Price\n",
       "0      Banana      Fruit   0.99\n",
       "1    Cucumber  Vegetable   1.25\n",
       "2      Orange      Fruit   0.25\n",
       "3      Tomato  Vegetable   0.33\n",
       "4  Watermelon      Fruit   3.00"
      ]
     },
     "execution_count": 2,
     "metadata": {},
     "output_type": "execute_result"
    }
   ],
   "source": [
    "food_data = {\n",
    "    \"Item\": [\"Banana\", \"Cucumber\", \"Orange\", \"Tomato\", \"Watermelon\"],\n",
    "    \"Type\": [\"Fruit\", \"Vegetable\", \"Fruit\", \"Vegetable\", \"Fruit\"],\n",
    "    \"Price\": [0.99, 1.25, 0.25, 0.33, 3.00]\n",
    "}\n",
    "\n",
    "supermarket = pd.DataFrame(data=food_data)\n",
    "\n",
    "supermarket"
   ]
  },
  {
   "cell_type": "code",
   "execution_count": 3,
   "id": "6a995a02-4e9d-4101-8f89-32b271cf241b",
   "metadata": {},
   "outputs": [
    {
     "data": {
      "text/plain": [
       "<pandas.core.groupby.generic.DataFrameGroupBy object at 0x000001F22277E150>"
      ]
     },
     "execution_count": 3,
     "metadata": {},
     "output_type": "execute_result"
    }
   ],
   "source": [
    "groups =  supermarket.groupby(\"Type\")\n",
    "groups"
   ]
  },
  {
   "cell_type": "code",
   "execution_count": 4,
   "id": "ee8cc694-981f-4405-9810-0aaeaf54b765",
   "metadata": {},
   "outputs": [
    {
     "data": {
      "text/html": [
       "<div>\n",
       "<style scoped>\n",
       "    .dataframe tbody tr th:only-of-type {\n",
       "        vertical-align: middle;\n",
       "    }\n",
       "\n",
       "    .dataframe tbody tr th {\n",
       "        vertical-align: top;\n",
       "    }\n",
       "\n",
       "    .dataframe thead th {\n",
       "        text-align: right;\n",
       "    }\n",
       "</style>\n",
       "<table border=\"1\" class=\"dataframe\">\n",
       "  <thead>\n",
       "    <tr style=\"text-align: right;\">\n",
       "      <th></th>\n",
       "      <th>Item</th>\n",
       "      <th>Type</th>\n",
       "      <th>Price</th>\n",
       "    </tr>\n",
       "  </thead>\n",
       "  <tbody>\n",
       "    <tr>\n",
       "      <th>0</th>\n",
       "      <td>Banana</td>\n",
       "      <td>Fruit</td>\n",
       "      <td>0.99</td>\n",
       "    </tr>\n",
       "    <tr>\n",
       "      <th>2</th>\n",
       "      <td>Orange</td>\n",
       "      <td>Fruit</td>\n",
       "      <td>0.25</td>\n",
       "    </tr>\n",
       "    <tr>\n",
       "      <th>4</th>\n",
       "      <td>Watermelon</td>\n",
       "      <td>Fruit</td>\n",
       "      <td>3.00</td>\n",
       "    </tr>\n",
       "  </tbody>\n",
       "</table>\n",
       "</div>"
      ],
      "text/plain": [
       "         Item   Type  Price\n",
       "0      Banana  Fruit   0.99\n",
       "2      Orange  Fruit   0.25\n",
       "4  Watermelon  Fruit   3.00"
      ]
     },
     "execution_count": 4,
     "metadata": {},
     "output_type": "execute_result"
    }
   ],
   "source": [
    "# pull out the \"Fruit\" rows\n",
    "groups.get_group(\"Fruit\")"
   ]
  },
  {
   "cell_type": "code",
   "execution_count": 5,
   "id": "9faf0479-fbf0-4d58-9fcd-3e1faeded06b",
   "metadata": {},
   "outputs": [
    {
     "data": {
      "text/html": [
       "<div>\n",
       "<style scoped>\n",
       "    .dataframe tbody tr th:only-of-type {\n",
       "        vertical-align: middle;\n",
       "    }\n",
       "\n",
       "    .dataframe tbody tr th {\n",
       "        vertical-align: top;\n",
       "    }\n",
       "\n",
       "    .dataframe thead th {\n",
       "        text-align: right;\n",
       "    }\n",
       "</style>\n",
       "<table border=\"1\" class=\"dataframe\">\n",
       "  <thead>\n",
       "    <tr style=\"text-align: right;\">\n",
       "      <th></th>\n",
       "      <th>Item</th>\n",
       "      <th>Type</th>\n",
       "      <th>Price</th>\n",
       "    </tr>\n",
       "  </thead>\n",
       "  <tbody>\n",
       "    <tr>\n",
       "      <th>1</th>\n",
       "      <td>Cucumber</td>\n",
       "      <td>Vegetable</td>\n",
       "      <td>1.25</td>\n",
       "    </tr>\n",
       "    <tr>\n",
       "      <th>3</th>\n",
       "      <td>Tomato</td>\n",
       "      <td>Vegetable</td>\n",
       "      <td>0.33</td>\n",
       "    </tr>\n",
       "  </tbody>\n",
       "</table>\n",
       "</div>"
      ],
      "text/plain": [
       "       Item       Type  Price\n",
       "1  Cucumber  Vegetable   1.25\n",
       "3    Tomato  Vegetable   0.33"
      ]
     },
     "execution_count": 5,
     "metadata": {},
     "output_type": "execute_result"
    }
   ],
   "source": [
    "# pull out the \"Vegetable\"  rows\n",
    "groups.get_group(\"Vegetable\")"
   ]
  },
  {
   "cell_type": "code",
   "execution_count": 6,
   "id": "394768ec-7523-49e8-bcd3-1da893ae651e",
   "metadata": {},
   "outputs": [
    {
     "data": {
      "text/html": [
       "<div>\n",
       "<style scoped>\n",
       "    .dataframe tbody tr th:only-of-type {\n",
       "        vertical-align: middle;\n",
       "    }\n",
       "\n",
       "    .dataframe tbody tr th {\n",
       "        vertical-align: top;\n",
       "    }\n",
       "\n",
       "    .dataframe thead th {\n",
       "        text-align: right;\n",
       "    }\n",
       "</style>\n",
       "<table border=\"1\" class=\"dataframe\">\n",
       "  <thead>\n",
       "    <tr style=\"text-align: right;\">\n",
       "      <th></th>\n",
       "      <th>Price</th>\n",
       "    </tr>\n",
       "    <tr>\n",
       "      <th>Type</th>\n",
       "      <th></th>\n",
       "    </tr>\n",
       "  </thead>\n",
       "  <tbody>\n",
       "    <tr>\n",
       "      <th>Fruit</th>\n",
       "      <td>1.413333</td>\n",
       "    </tr>\n",
       "    <tr>\n",
       "      <th>Vegetable</th>\n",
       "      <td>0.790000</td>\n",
       "    </tr>\n",
       "  </tbody>\n",
       "</table>\n",
       "</div>"
      ],
      "text/plain": [
       "              Price\n",
       "Type               \n",
       "Fruit      1.413333\n",
       "Vegetable  0.790000"
      ]
     },
     "execution_count": 6,
     "metadata": {},
     "output_type": "execute_result"
    }
   ],
   "source": [
    "groups.mean(numeric_only=True)"
   ]
  },
  {
   "cell_type": "markdown",
   "id": "902c18d3-3aa8-4160-a360-2957962fa440",
   "metadata": {},
   "source": [
    "## 9.2 Creating a GroupBy object from a data set"
   ]
  },
  {
   "cell_type": "code",
   "execution_count": 7,
   "id": "0c2a7eeb-68bc-45b8-a57b-5e83d403a8f1",
   "metadata": {},
   "outputs": [
    {
     "data": {
      "text/html": [
       "<div>\n",
       "<style scoped>\n",
       "    .dataframe tbody tr th:only-of-type {\n",
       "        vertical-align: middle;\n",
       "    }\n",
       "\n",
       "    .dataframe tbody tr th {\n",
       "        vertical-align: top;\n",
       "    }\n",
       "\n",
       "    .dataframe thead th {\n",
       "        text-align: right;\n",
       "    }\n",
       "</style>\n",
       "<table border=\"1\" class=\"dataframe\">\n",
       "  <thead>\n",
       "    <tr style=\"text-align: right;\">\n",
       "      <th></th>\n",
       "      <th>Company</th>\n",
       "      <th>Revenues</th>\n",
       "      <th>Profits</th>\n",
       "      <th>Employees</th>\n",
       "      <th>Sector</th>\n",
       "      <th>Industry</th>\n",
       "    </tr>\n",
       "  </thead>\n",
       "  <tbody>\n",
       "    <tr>\n",
       "      <th>0</th>\n",
       "      <td>Walmart</td>\n",
       "      <td>500343.0</td>\n",
       "      <td>9862.0</td>\n",
       "      <td>2300000</td>\n",
       "      <td>Retailing</td>\n",
       "      <td>General Merchandisers</td>\n",
       "    </tr>\n",
       "    <tr>\n",
       "      <th>1</th>\n",
       "      <td>Exxon Mobil</td>\n",
       "      <td>244363.0</td>\n",
       "      <td>19710.0</td>\n",
       "      <td>71200</td>\n",
       "      <td>Energy</td>\n",
       "      <td>Petroleum Refining</td>\n",
       "    </tr>\n",
       "    <tr>\n",
       "      <th>2</th>\n",
       "      <td>Berkshire Hathaway</td>\n",
       "      <td>242137.0</td>\n",
       "      <td>44940.0</td>\n",
       "      <td>377000</td>\n",
       "      <td>Financials</td>\n",
       "      <td>Insurance: Property and Casualty (Stock)</td>\n",
       "    </tr>\n",
       "    <tr>\n",
       "      <th>3</th>\n",
       "      <td>Apple</td>\n",
       "      <td>229234.0</td>\n",
       "      <td>48351.0</td>\n",
       "      <td>123000</td>\n",
       "      <td>Technology</td>\n",
       "      <td>Computers, Office Equipment</td>\n",
       "    </tr>\n",
       "    <tr>\n",
       "      <th>4</th>\n",
       "      <td>UnitedHealth Group</td>\n",
       "      <td>201159.0</td>\n",
       "      <td>10558.0</td>\n",
       "      <td>260000</td>\n",
       "      <td>Health Care</td>\n",
       "      <td>Health Care: Insurance and Managed Care</td>\n",
       "    </tr>\n",
       "    <tr>\n",
       "      <th>...</th>\n",
       "      <td>...</td>\n",
       "      <td>...</td>\n",
       "      <td>...</td>\n",
       "      <td>...</td>\n",
       "      <td>...</td>\n",
       "      <td>...</td>\n",
       "    </tr>\n",
       "    <tr>\n",
       "      <th>995</th>\n",
       "      <td>SiteOne Landscape Supply</td>\n",
       "      <td>1862.0</td>\n",
       "      <td>54.6</td>\n",
       "      <td>3664</td>\n",
       "      <td>Wholesalers</td>\n",
       "      <td>Wholesalers: Diversified</td>\n",
       "    </tr>\n",
       "    <tr>\n",
       "      <th>996</th>\n",
       "      <td>Charles River Laboratories Intl</td>\n",
       "      <td>1858.0</td>\n",
       "      <td>123.4</td>\n",
       "      <td>11800</td>\n",
       "      <td>Health Care</td>\n",
       "      <td>Health Care: Pharmacy and Other Services</td>\n",
       "    </tr>\n",
       "    <tr>\n",
       "      <th>997</th>\n",
       "      <td>CoreLogic</td>\n",
       "      <td>1851.0</td>\n",
       "      <td>152.2</td>\n",
       "      <td>5900</td>\n",
       "      <td>Business Services</td>\n",
       "      <td>Financial Data Services</td>\n",
       "    </tr>\n",
       "    <tr>\n",
       "      <th>998</th>\n",
       "      <td>Ensign Group</td>\n",
       "      <td>1849.0</td>\n",
       "      <td>40.5</td>\n",
       "      <td>21301</td>\n",
       "      <td>Health Care</td>\n",
       "      <td>Health Care: Medical Facilities</td>\n",
       "    </tr>\n",
       "    <tr>\n",
       "      <th>999</th>\n",
       "      <td>HCP</td>\n",
       "      <td>1848.0</td>\n",
       "      <td>414.2</td>\n",
       "      <td>190</td>\n",
       "      <td>Financials</td>\n",
       "      <td>Real estate</td>\n",
       "    </tr>\n",
       "  </tbody>\n",
       "</table>\n",
       "<p>1000 rows × 6 columns</p>\n",
       "</div>"
      ],
      "text/plain": [
       "                             Company  Revenues  Profits  Employees  \\\n",
       "0                            Walmart  500343.0   9862.0    2300000   \n",
       "1                        Exxon Mobil  244363.0  19710.0      71200   \n",
       "2                 Berkshire Hathaway  242137.0  44940.0     377000   \n",
       "3                              Apple  229234.0  48351.0     123000   \n",
       "4                 UnitedHealth Group  201159.0  10558.0     260000   \n",
       "..                               ...       ...      ...        ...   \n",
       "995         SiteOne Landscape Supply    1862.0     54.6       3664   \n",
       "996  Charles River Laboratories Intl    1858.0    123.4      11800   \n",
       "997                        CoreLogic    1851.0    152.2       5900   \n",
       "998                     Ensign Group    1849.0     40.5      21301   \n",
       "999                              HCP    1848.0    414.2        190   \n",
       "\n",
       "                Sector                                  Industry  \n",
       "0            Retailing                     General Merchandisers  \n",
       "1               Energy                        Petroleum Refining  \n",
       "2           Financials  Insurance: Property and Casualty (Stock)  \n",
       "3           Technology               Computers, Office Equipment  \n",
       "4          Health Care   Health Care: Insurance and Managed Care  \n",
       "..                 ...                                       ...  \n",
       "995        Wholesalers                  Wholesalers: Diversified  \n",
       "996        Health Care  Health Care: Pharmacy and Other Services  \n",
       "997  Business Services                   Financial Data Services  \n",
       "998        Health Care           Health Care: Medical Facilities  \n",
       "999         Financials                               Real estate  \n",
       "\n",
       "[1000 rows x 6 columns]"
      ]
     },
     "execution_count": 7,
     "metadata": {},
     "output_type": "execute_result"
    }
   ],
   "source": [
    "fortune = pd.read_csv(\"data/ch09/fortune1000.csv\")\n",
    "fortune"
   ]
  },
  {
   "cell_type": "code",
   "execution_count": 8,
   "id": "406ebcb6-0e5c-475f-9e8c-815a2170749f",
   "metadata": {},
   "outputs": [
    {
     "data": {
      "text/html": [
       "<div>\n",
       "<style scoped>\n",
       "    .dataframe tbody tr th:only-of-type {\n",
       "        vertical-align: middle;\n",
       "    }\n",
       "\n",
       "    .dataframe tbody tr th {\n",
       "        vertical-align: top;\n",
       "    }\n",
       "\n",
       "    .dataframe thead th {\n",
       "        text-align: right;\n",
       "    }\n",
       "</style>\n",
       "<table border=\"1\" class=\"dataframe\">\n",
       "  <thead>\n",
       "    <tr style=\"text-align: right;\">\n",
       "      <th></th>\n",
       "      <th>Company</th>\n",
       "      <th>Revenues</th>\n",
       "      <th>Profits</th>\n",
       "      <th>Employees</th>\n",
       "      <th>Sector</th>\n",
       "      <th>Industry</th>\n",
       "    </tr>\n",
       "  </thead>\n",
       "  <tbody>\n",
       "    <tr>\n",
       "      <th>0</th>\n",
       "      <td>Walmart</td>\n",
       "      <td>500343.0</td>\n",
       "      <td>9862.0</td>\n",
       "      <td>2300000</td>\n",
       "      <td>Retailing</td>\n",
       "      <td>General Merchandisers</td>\n",
       "    </tr>\n",
       "    <tr>\n",
       "      <th>7</th>\n",
       "      <td>Amazon.com</td>\n",
       "      <td>177866.0</td>\n",
       "      <td>3033.0</td>\n",
       "      <td>566000</td>\n",
       "      <td>Retailing</td>\n",
       "      <td>Internet Services and Retailing</td>\n",
       "    </tr>\n",
       "    <tr>\n",
       "      <th>14</th>\n",
       "      <td>Costco</td>\n",
       "      <td>129025.0</td>\n",
       "      <td>2679.0</td>\n",
       "      <td>182000</td>\n",
       "      <td>Retailing</td>\n",
       "      <td>General Merchandisers</td>\n",
       "    </tr>\n",
       "    <tr>\n",
       "      <th>22</th>\n",
       "      <td>Home Depot</td>\n",
       "      <td>100904.0</td>\n",
       "      <td>8630.0</td>\n",
       "      <td>413000</td>\n",
       "      <td>Retailing</td>\n",
       "      <td>Specialty Retailers: Other</td>\n",
       "    </tr>\n",
       "    <tr>\n",
       "      <th>38</th>\n",
       "      <td>Target</td>\n",
       "      <td>71879.0</td>\n",
       "      <td>2934.0</td>\n",
       "      <td>345000</td>\n",
       "      <td>Retailing</td>\n",
       "      <td>General Merchandisers</td>\n",
       "    </tr>\n",
       "  </tbody>\n",
       "</table>\n",
       "</div>"
      ],
      "text/plain": [
       "       Company  Revenues  Profits  Employees     Sector  \\\n",
       "0      Walmart  500343.0   9862.0    2300000  Retailing   \n",
       "7   Amazon.com  177866.0   3033.0     566000  Retailing   \n",
       "14      Costco  129025.0   2679.0     182000  Retailing   \n",
       "22  Home Depot  100904.0   8630.0     413000  Retailing   \n",
       "38      Target   71879.0   2934.0     345000  Retailing   \n",
       "\n",
       "                           Industry  \n",
       "0             General Merchandisers  \n",
       "7   Internet Services and Retailing  \n",
       "14            General Merchandisers  \n",
       "22       Specialty Retailers: Other  \n",
       "38            General Merchandisers  "
      ]
     },
     "execution_count": 8,
     "metadata": {},
     "output_type": "execute_result"
    }
   ],
   "source": [
    "# pull out all companies with a Sector value of \"Retailing\":\n",
    "in_retailing = fortune[\"Sector\"] == \"Retailing\"\n",
    "retail_companies = fortune[in_retailing]\n",
    "retail_companies.head()"
   ]
  },
  {
   "cell_type": "code",
   "execution_count": 9,
   "id": "59bc2877-8f7f-477d-95a7-fe26efed07f0",
   "metadata": {},
   "outputs": [
    {
     "data": {
      "text/plain": [
       "0     500343.0\n",
       "7     177866.0\n",
       "14    129025.0\n",
       "22    100904.0\n",
       "38     71879.0\n",
       "Name: Revenues, dtype: float64"
      ]
     },
     "execution_count": 9,
     "metadata": {},
     "output_type": "execute_result"
    }
   ],
   "source": [
    "# pull out the Revenues column from the subset\n",
    "retail_companies[\"Revenues\"].head()"
   ]
  },
  {
   "cell_type": "code",
   "execution_count": 10,
   "id": "6fdb4aa7-9d17-4d6c-8670-89cb750fc5e0",
   "metadata": {},
   "outputs": [
    {
     "data": {
      "text/plain": [
       "21874.714285714286"
      ]
     },
     "execution_count": 10,
     "metadata": {},
     "output_type": "execute_result"
    }
   ],
   "source": [
    "retail_companies[\"Revenues\"].mean()"
   ]
  },
  {
   "cell_type": "code",
   "execution_count": 11,
   "id": "38d6a9e5-bf7f-4d59-9cc7-0dbb226a2553",
   "metadata": {},
   "outputs": [],
   "source": [
    "# invoke the groupby method on the fortune DataFrame\n",
    "sectors = fortune.groupby(\"Sector\")"
   ]
  },
  {
   "cell_type": "code",
   "execution_count": 12,
   "id": "872203fc-7eca-4f7a-8f6e-eedb8161aef9",
   "metadata": {},
   "outputs": [
    {
     "data": {
      "text/plain": [
       "<pandas.core.groupby.generic.DataFrameGroupBy object at 0x000001F2227B4250>"
      ]
     },
     "execution_count": 12,
     "metadata": {},
     "output_type": "execute_result"
    }
   ],
   "source": [
    "sectors"
   ]
  },
  {
   "cell_type": "code",
   "execution_count": 13,
   "id": "e9ce62cd-f3f8-40c1-9de5-b209207cc81b",
   "metadata": {},
   "outputs": [
    {
     "data": {
      "text/plain": [
       "21"
      ]
     },
     "execution_count": 13,
     "metadata": {},
     "output_type": "execute_result"
    }
   ],
   "source": [
    "len(sectors)"
   ]
  },
  {
   "cell_type": "code",
   "execution_count": 14,
   "id": "98a8a780-afd3-4be9-b251-0a772cbb2de3",
   "metadata": {},
   "outputs": [
    {
     "data": {
      "text/plain": [
       "21"
      ]
     },
     "execution_count": 14,
     "metadata": {},
     "output_type": "execute_result"
    }
   ],
   "source": [
    "fortune[\"Sector\"].nunique()"
   ]
  },
  {
   "cell_type": "code",
   "execution_count": 15,
   "id": "7cd928fe-22c0-4116-9156-c0d0bdeeae8c",
   "metadata": {},
   "outputs": [
    {
     "data": {
      "text/plain": [
       "Sector\n",
       "Aerospace & Defense               25\n",
       "Apparel                           14\n",
       "Business Services                 53\n",
       "Chemicals                         33\n",
       "Energy                           107\n",
       "Engineering & Construction        27\n",
       "Financials                       155\n",
       "Food &  Drug Stores               12\n",
       "Food, Beverages & Tobacco         37\n",
       "Health Care                       71\n",
       "Hotels, Restaurants & Leisure     26\n",
       "Household Products                28\n",
       "Industrials                       49\n",
       "Materials                         45\n",
       "Media                             25\n",
       "Motor Vehicles & Parts            19\n",
       "Retailing                         77\n",
       "Technology                       103\n",
       "Telecommunications                10\n",
       "Transportation                    40\n",
       "Wholesalers                       44\n",
       "dtype: int64"
      ]
     },
     "execution_count": 15,
     "metadata": {},
     "output_type": "execute_result"
    }
   ],
   "source": [
    "sectors.size()"
   ]
  }
 ],
 "metadata": {
  "kernelspec": {
   "display_name": "Python 3 (ipykernel)",
   "language": "python",
   "name": "python3"
  },
  "language_info": {
   "codemirror_mode": {
    "name": "ipython",
    "version": 3
   },
   "file_extension": ".py",
   "mimetype": "text/x-python",
   "name": "python",
   "nbconvert_exporter": "python",
   "pygments_lexer": "ipython3",
   "version": "3.11.3"
  }
 },
 "nbformat": 4,
 "nbformat_minor": 5
}
