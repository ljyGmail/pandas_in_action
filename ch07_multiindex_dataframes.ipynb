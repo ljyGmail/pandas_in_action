{
 "cells": [
  {
   "cell_type": "markdown",
   "id": "02b3f536-c8dd-4f8c-be49-0555920ee104",
   "metadata": {},
   "source": [
    "# Chapter 7: MultiIndex DataFrames"
   ]
  },
  {
   "cell_type": "code",
   "execution_count": 1,
   "id": "0c892570-966e-428a-860b-51955d67aafd",
   "metadata": {},
   "outputs": [],
   "source": [
    "import pandas as pd"
   ]
  },
  {
   "cell_type": "markdown",
   "id": "9ff8337e-c781-4da3-96fb-a26c63573c25",
   "metadata": {},
   "source": [
    "## 7.1 The MultiIndex object"
   ]
  },
  {
   "cell_type": "code",
   "execution_count": 2,
   "id": "e6e4b6a7-e94f-443f-b25f-4380f0e5461d",
   "metadata": {},
   "outputs": [
    {
     "data": {
      "text/plain": [
       "('8809 Flair Square', 'Toddside', 'IL', '37206')"
      ]
     },
     "execution_count": 2,
     "metadata": {},
     "output_type": "execute_result"
    }
   ],
   "source": [
    "address = (\"8809 Flair Square\", \"Toddside\", \"IL\", \"37206\")\n",
    "address"
   ]
  },
  {
   "cell_type": "code",
   "execution_count": 3,
   "id": "a5bec334-9df4-4ca0-9a14-d64ef527bbc7",
   "metadata": {},
   "outputs": [],
   "source": [
    "addresses = [\n",
    "    (\"8809 Flair Square\", \"Toddside\", \"IL\", \"37206\"),\n",
    "    (\"9901 Austin Street\", \"Toddside\", \"IL\", \"37206\"),\n",
    "    (\"905 Hogan Quarter\", \"Franklin\", \"IL\", \"37206\"),\n",
    "]"
   ]
  },
  {
   "cell_type": "code",
   "execution_count": 4,
   "id": "82f3433c-ec1e-40fc-bdd9-e9b7ba325937",
   "metadata": {},
   "outputs": [
    {
     "data": {
      "text/plain": [
       "MultiIndex([( '8809 Flair Square', 'Toddside', 'IL', '37206'),\n",
       "            ('9901 Austin Street', 'Toddside', 'IL', '37206'),\n",
       "            ( '905 Hogan Quarter', 'Franklin', 'IL', '37206')],\n",
       "           )"
      ]
     },
     "execution_count": 4,
     "metadata": {},
     "output_type": "execute_result"
    }
   ],
   "source": [
    "# The two lines below are equivalent\n",
    "pd.MultiIndex.from_tuples(addresses)\n",
    "pd.MultiIndex.from_tuples(tuples=addresses)"
   ]
  },
  {
   "cell_type": "code",
   "execution_count": 5,
   "id": "839d809c-1783-415a-8cbc-237f64338ae3",
   "metadata": {},
   "outputs": [
    {
     "data": {
      "text/plain": [
       "MultiIndex([( '8809 Flair Square', 'Toddside', 'IL', '37206'),\n",
       "            ('9901 Austin Street', 'Toddside', 'IL', '37206'),\n",
       "            ( '905 Hogan Quarter', 'Franklin', 'IL', '37206')],\n",
       "           names=['Street', 'City', 'State', 'Zip'])"
      ]
     },
     "execution_count": 5,
     "metadata": {},
     "output_type": "execute_result"
    }
   ],
   "source": [
    "# assign each MultiIndex level a name\n",
    "row_index = pd.MultiIndex.from_tuples(\n",
    "    tuples=addresses,\n",
    "    names=[\"Street\", \"City\", \"State\", \"Zip\"]\n",
    ")\n",
    "\n",
    "row_index"
   ]
  },
  {
   "cell_type": "code",
   "execution_count": 6,
   "id": "8e65a0e6-347a-4fc9-a43c-cb9b47e0cc89",
   "metadata": {},
   "outputs": [
    {
     "data": {
      "text/html": [
       "<div>\n",
       "<style scoped>\n",
       "    .dataframe tbody tr th:only-of-type {\n",
       "        vertical-align: middle;\n",
       "    }\n",
       "\n",
       "    .dataframe tbody tr th {\n",
       "        vertical-align: top;\n",
       "    }\n",
       "\n",
       "    .dataframe thead th {\n",
       "        text-align: right;\n",
       "    }\n",
       "</style>\n",
       "<table border=\"1\" class=\"dataframe\">\n",
       "  <thead>\n",
       "    <tr style=\"text-align: right;\">\n",
       "      <th></th>\n",
       "      <th></th>\n",
       "      <th></th>\n",
       "      <th></th>\n",
       "      <th>Schools</th>\n",
       "      <th>Cost of Living</th>\n",
       "    </tr>\n",
       "    <tr>\n",
       "      <th>Street</th>\n",
       "      <th>City</th>\n",
       "      <th>State</th>\n",
       "      <th>Zip</th>\n",
       "      <th></th>\n",
       "      <th></th>\n",
       "    </tr>\n",
       "  </thead>\n",
       "  <tbody>\n",
       "    <tr>\n",
       "      <th>8809 Flair Square</th>\n",
       "      <th>Toddside</th>\n",
       "      <th>IL</th>\n",
       "      <th>37206</th>\n",
       "      <td>A</td>\n",
       "      <td>B+</td>\n",
       "    </tr>\n",
       "    <tr>\n",
       "      <th>9901 Austin Street</th>\n",
       "      <th>Toddside</th>\n",
       "      <th>IL</th>\n",
       "      <th>37206</th>\n",
       "      <td>C+</td>\n",
       "      <td>C</td>\n",
       "    </tr>\n",
       "    <tr>\n",
       "      <th>905 Hogan Quarter</th>\n",
       "      <th>Franklin</th>\n",
       "      <th>IL</th>\n",
       "      <th>37206</th>\n",
       "      <td>D-</td>\n",
       "      <td>A</td>\n",
       "    </tr>\n",
       "  </tbody>\n",
       "</table>\n",
       "</div>"
      ],
      "text/plain": [
       "                                        Schools Cost of Living\n",
       "Street             City     State Zip                         \n",
       "8809 Flair Square  Toddside IL    37206       A             B+\n",
       "9901 Austin Street Toddside IL    37206      C+              C\n",
       "905 Hogan Quarter  Franklin IL    37206      D-              A"
      ]
     },
     "execution_count": 6,
     "metadata": {},
     "output_type": "execute_result"
    }
   ],
   "source": [
    "data = [\n",
    "    [\"A\", \"B+\"],\n",
    "    [\"C+\", \"C\"],\n",
    "    [\"D-\", \"A\"],\n",
    "]\n",
    "\n",
    "columns = [\"Schools\", \"Cost of Living\"]\n",
    "\n",
    "area_grades = pd.DataFrame(\n",
    "    data=data, index=row_index, columns=columns\n",
    ")\n",
    "\n",
    "area_grades"
   ]
  },
  {
   "cell_type": "code",
   "execution_count": 7,
   "id": "29d53369-a646-41d1-802c-c5b7125358d6",
   "metadata": {},
   "outputs": [
    {
     "data": {
      "text/plain": [
       "Index(['Schools', 'Cost of Living'], dtype='object')"
      ]
     },
     "execution_count": 7,
     "metadata": {},
     "output_type": "execute_result"
    }
   ],
   "source": [
    "area_grades.columns"
   ]
  },
  {
   "cell_type": "code",
   "execution_count": 8,
   "id": "95555f9b-badf-4101-bd06-f0fb0f25a5d3",
   "metadata": {},
   "outputs": [
    {
     "data": {
      "text/plain": [
       "MultiIndex([( 'Culture', 'Restaurants'),\n",
       "            ( 'Culture',     'Museums'),\n",
       "            ('Services',      'Police'),\n",
       "            ('Services',     'Schools')],\n",
       "           )"
      ]
     },
     "execution_count": 8,
     "metadata": {},
     "output_type": "execute_result"
    }
   ],
   "source": [
    "# Create a second MultiIndex and attach it to the column axis\n",
    "column_index = pd.MultiIndex.from_tuples(\n",
    "    [\n",
    "        (\"Culture\", \"Restaurants\"),\n",
    "        (\"Culture\", \"Museums\"),\n",
    "        (\"Services\", \"Police\"),\n",
    "        (\"Services\", \"Schools\"),\n",
    "    ]\n",
    ")\n",
    "\n",
    "column_index"
   ]
  },
  {
   "cell_type": "code",
   "execution_count": 9,
   "id": "7b057948-ad6b-4baa-83b4-10bb489938b4",
   "metadata": {},
   "outputs": [],
   "source": [
    "data = [\n",
    "    [\"C-\", \"B+\", \"B-\", \"A\"],\n",
    "    [\"D+\", \"C\", \"A\", \"C+\"],\n",
    "    [\"A-\", \"A\", \"D+\", \"F\"],\n",
    "]"
   ]
  },
  {
   "cell_type": "code",
   "execution_count": 10,
   "id": "6049dc95-37c6-4579-87cd-8020e9723bca",
   "metadata": {},
   "outputs": [
    {
     "data": {
      "text/html": [
       "<div>\n",
       "<style scoped>\n",
       "    .dataframe tbody tr th:only-of-type {\n",
       "        vertical-align: middle;\n",
       "    }\n",
       "\n",
       "    .dataframe tbody tr th {\n",
       "        vertical-align: top;\n",
       "    }\n",
       "\n",
       "    .dataframe thead tr th {\n",
       "        text-align: left;\n",
       "    }\n",
       "\n",
       "    .dataframe thead tr:last-of-type th {\n",
       "        text-align: right;\n",
       "    }\n",
       "</style>\n",
       "<table border=\"1\" class=\"dataframe\">\n",
       "  <thead>\n",
       "    <tr>\n",
       "      <th></th>\n",
       "      <th></th>\n",
       "      <th></th>\n",
       "      <th></th>\n",
       "      <th colspan=\"2\" halign=\"left\">Culture</th>\n",
       "      <th colspan=\"2\" halign=\"left\">Services</th>\n",
       "    </tr>\n",
       "    <tr>\n",
       "      <th></th>\n",
       "      <th></th>\n",
       "      <th></th>\n",
       "      <th></th>\n",
       "      <th>Restaurants</th>\n",
       "      <th>Museums</th>\n",
       "      <th>Police</th>\n",
       "      <th>Schools</th>\n",
       "    </tr>\n",
       "    <tr>\n",
       "      <th>Street</th>\n",
       "      <th>City</th>\n",
       "      <th>State</th>\n",
       "      <th>Zip</th>\n",
       "      <th></th>\n",
       "      <th></th>\n",
       "      <th></th>\n",
       "      <th></th>\n",
       "    </tr>\n",
       "  </thead>\n",
       "  <tbody>\n",
       "    <tr>\n",
       "      <th>8809 Flair Square</th>\n",
       "      <th>Toddside</th>\n",
       "      <th>IL</th>\n",
       "      <th>37206</th>\n",
       "      <td>C-</td>\n",
       "      <td>B+</td>\n",
       "      <td>B-</td>\n",
       "      <td>A</td>\n",
       "    </tr>\n",
       "    <tr>\n",
       "      <th>9901 Austin Street</th>\n",
       "      <th>Toddside</th>\n",
       "      <th>IL</th>\n",
       "      <th>37206</th>\n",
       "      <td>D+</td>\n",
       "      <td>C</td>\n",
       "      <td>A</td>\n",
       "      <td>C+</td>\n",
       "    </tr>\n",
       "    <tr>\n",
       "      <th>905 Hogan Quarter</th>\n",
       "      <th>Franklin</th>\n",
       "      <th>IL</th>\n",
       "      <th>37206</th>\n",
       "      <td>A-</td>\n",
       "      <td>A</td>\n",
       "      <td>D+</td>\n",
       "      <td>F</td>\n",
       "    </tr>\n",
       "  </tbody>\n",
       "</table>\n",
       "</div>"
      ],
      "text/plain": [
       "                                            Culture         Services        \n",
       "                                        Restaurants Museums   Police Schools\n",
       "Street             City     State Zip                                       \n",
       "8809 Flair Square  Toddside IL    37206          C-      B+       B-       A\n",
       "9901 Austin Street Toddside IL    37206          D+       C        A      C+\n",
       "905 Hogan Quarter  Franklin IL    37206          A-       A       D+       F"
      ]
     },
     "execution_count": 10,
     "metadata": {},
     "output_type": "execute_result"
    }
   ],
   "source": [
    "pd.DataFrame(\n",
    "    data=data, index=row_index, columns=column_index\n",
    ")"
   ]
  },
  {
   "cell_type": "markdown",
   "id": "06c02a1a-226b-4792-8e04-3c605bd32967",
   "metadata": {},
   "source": [
    "## 7.2 MultiIndex DataFrames"
   ]
  },
  {
   "cell_type": "code",
   "execution_count": 11,
   "id": "3f3e0d0c-171a-4224-90ad-9d1049cfa107",
   "metadata": {},
   "outputs": [
    {
     "data": {
      "text/html": [
       "<div>\n",
       "<style scoped>\n",
       "    .dataframe tbody tr th:only-of-type {\n",
       "        vertical-align: middle;\n",
       "    }\n",
       "\n",
       "    .dataframe tbody tr th {\n",
       "        vertical-align: top;\n",
       "    }\n",
       "\n",
       "    .dataframe thead th {\n",
       "        text-align: right;\n",
       "    }\n",
       "</style>\n",
       "<table border=\"1\" class=\"dataframe\">\n",
       "  <thead>\n",
       "    <tr style=\"text-align: right;\">\n",
       "      <th></th>\n",
       "      <th>Unnamed: 0</th>\n",
       "      <th>Unnamed: 1</th>\n",
       "      <th>Unnamed: 2</th>\n",
       "      <th>Culture</th>\n",
       "      <th>Culture.1</th>\n",
       "      <th>Services</th>\n",
       "      <th>Services.1</th>\n",
       "    </tr>\n",
       "  </thead>\n",
       "  <tbody>\n",
       "    <tr>\n",
       "      <th>0</th>\n",
       "      <td>NaN</td>\n",
       "      <td>NaN</td>\n",
       "      <td>NaN</td>\n",
       "      <td>Restaurants</td>\n",
       "      <td>Museums</td>\n",
       "      <td>Police</td>\n",
       "      <td>Schools</td>\n",
       "    </tr>\n",
       "    <tr>\n",
       "      <th>1</th>\n",
       "      <td>State</td>\n",
       "      <td>City</td>\n",
       "      <td>Street</td>\n",
       "      <td>NaN</td>\n",
       "      <td>NaN</td>\n",
       "      <td>NaN</td>\n",
       "      <td>NaN</td>\n",
       "    </tr>\n",
       "    <tr>\n",
       "      <th>2</th>\n",
       "      <td>MO</td>\n",
       "      <td>Fisherborough</td>\n",
       "      <td>244 Tracy View</td>\n",
       "      <td>C+</td>\n",
       "      <td>F</td>\n",
       "      <td>D-</td>\n",
       "      <td>A+</td>\n",
       "    </tr>\n",
       "    <tr>\n",
       "      <th>3</th>\n",
       "      <td>SD</td>\n",
       "      <td>Port Curtisville</td>\n",
       "      <td>446 Cynthia Inlet</td>\n",
       "      <td>C-</td>\n",
       "      <td>B</td>\n",
       "      <td>B</td>\n",
       "      <td>D+</td>\n",
       "    </tr>\n",
       "    <tr>\n",
       "      <th>4</th>\n",
       "      <td>WV</td>\n",
       "      <td>Jimenezview</td>\n",
       "      <td>432 John Common</td>\n",
       "      <td>A</td>\n",
       "      <td>A+</td>\n",
       "      <td>F</td>\n",
       "      <td>B</td>\n",
       "    </tr>\n",
       "  </tbody>\n",
       "</table>\n",
       "</div>"
      ],
      "text/plain": [
       "  Unnamed: 0        Unnamed: 1         Unnamed: 2      Culture Culture.1  \\\n",
       "0        NaN               NaN                NaN  Restaurants   Museums   \n",
       "1      State              City             Street          NaN       NaN   \n",
       "2         MO     Fisherborough     244 Tracy View           C+         F   \n",
       "3         SD  Port Curtisville  446 Cynthia Inlet           C-         B   \n",
       "4         WV       Jimenezview    432 John Common            A        A+   \n",
       "\n",
       "  Services Services.1  \n",
       "0   Police    Schools  \n",
       "1      NaN        NaN  \n",
       "2       D-         A+  \n",
       "3        B         D+  \n",
       "4        F          B  "
      ]
     },
     "execution_count": 11,
     "metadata": {},
     "output_type": "execute_result"
    }
   ],
   "source": [
    "neighborhoods = pd.read_csv(\"data/ch07/neighborhoods.csv\")\n",
    "neighborhoods.head()"
   ]
  },
  {
   "cell_type": "code",
   "execution_count": 12,
   "id": "0ba38e02-8f9b-44c3-8977-cc6a439a62cc",
   "metadata": {},
   "outputs": [
    {
     "data": {
      "text/html": [
       "<div>\n",
       "<style scoped>\n",
       "    .dataframe tbody tr th:only-of-type {\n",
       "        vertical-align: middle;\n",
       "    }\n",
       "\n",
       "    .dataframe tbody tr th {\n",
       "        vertical-align: top;\n",
       "    }\n",
       "\n",
       "    .dataframe thead th {\n",
       "        text-align: right;\n",
       "    }\n",
       "</style>\n",
       "<table border=\"1\" class=\"dataframe\">\n",
       "  <thead>\n",
       "    <tr style=\"text-align: right;\">\n",
       "      <th></th>\n",
       "      <th></th>\n",
       "      <th></th>\n",
       "      <th>Culture</th>\n",
       "      <th>Culture.1</th>\n",
       "      <th>Services</th>\n",
       "      <th>Services.1</th>\n",
       "    </tr>\n",
       "  </thead>\n",
       "  <tbody>\n",
       "    <tr>\n",
       "      <th>NaN</th>\n",
       "      <th>NaN</th>\n",
       "      <th>NaN</th>\n",
       "      <td>Restaurants</td>\n",
       "      <td>Museums</td>\n",
       "      <td>Police</td>\n",
       "      <td>Schools</td>\n",
       "    </tr>\n",
       "    <tr>\n",
       "      <th>State</th>\n",
       "      <th>City</th>\n",
       "      <th>Street</th>\n",
       "      <td>NaN</td>\n",
       "      <td>NaN</td>\n",
       "      <td>NaN</td>\n",
       "      <td>NaN</td>\n",
       "    </tr>\n",
       "    <tr>\n",
       "      <th>MO</th>\n",
       "      <th>Fisherborough</th>\n",
       "      <th>244 Tracy View</th>\n",
       "      <td>C+</td>\n",
       "      <td>F</td>\n",
       "      <td>D-</td>\n",
       "      <td>A+</td>\n",
       "    </tr>\n",
       "    <tr>\n",
       "      <th>SD</th>\n",
       "      <th>Port Curtisville</th>\n",
       "      <th>446 Cynthia Inlet</th>\n",
       "      <td>C-</td>\n",
       "      <td>B</td>\n",
       "      <td>B</td>\n",
       "      <td>D+</td>\n",
       "    </tr>\n",
       "    <tr>\n",
       "      <th>WV</th>\n",
       "      <th>Jimenezview</th>\n",
       "      <th>432 John Common</th>\n",
       "      <td>A</td>\n",
       "      <td>A+</td>\n",
       "      <td>F</td>\n",
       "      <td>B</td>\n",
       "    </tr>\n",
       "  </tbody>\n",
       "</table>\n",
       "</div>"
      ],
      "text/plain": [
       "                                              Culture Culture.1 Services  \\\n",
       "NaN   NaN              NaN                Restaurants   Museums   Police   \n",
       "State City             Street                     NaN       NaN      NaN   \n",
       "MO    Fisherborough    244 Tracy View              C+         F       D-   \n",
       "SD    Port Curtisville 446 Cynthia Inlet           C-         B        B   \n",
       "WV    Jimenezview      432 John Common              A        A+        F   \n",
       "\n",
       "                                         Services.1  \n",
       "NaN   NaN              NaN                  Schools  \n",
       "State City             Street                   NaN  \n",
       "MO    Fisherborough    244 Tracy View            A+  \n",
       "SD    Port Curtisville 446 Cynthia Inlet         D+  \n",
       "WV    Jimenezview      432 John Common            B  "
      ]
     },
     "execution_count": 12,
     "metadata": {},
     "output_type": "execute_result"
    }
   ],
   "source": [
    "neighborhoods = pd.read_csv(\n",
    "    \"data/ch07/neighborhoods.csv\",\n",
    "    index_col=[0, 1, 2]\n",
    ")\n",
    "\n",
    "neighborhoods.head()"
   ]
  },
  {
   "cell_type": "code",
   "execution_count": 13,
   "id": "ada3f83e-cd2e-4e07-8106-a324e3ec9fc5",
   "metadata": {},
   "outputs": [
    {
     "data": {
      "text/html": [
       "<div>\n",
       "<style scoped>\n",
       "    .dataframe tbody tr th:only-of-type {\n",
       "        vertical-align: middle;\n",
       "    }\n",
       "\n",
       "    .dataframe tbody tr th {\n",
       "        vertical-align: top;\n",
       "    }\n",
       "\n",
       "    .dataframe thead tr th {\n",
       "        text-align: left;\n",
       "    }\n",
       "\n",
       "    .dataframe thead tr:last-of-type th {\n",
       "        text-align: right;\n",
       "    }\n",
       "</style>\n",
       "<table border=\"1\" class=\"dataframe\">\n",
       "  <thead>\n",
       "    <tr>\n",
       "      <th></th>\n",
       "      <th></th>\n",
       "      <th></th>\n",
       "      <th colspan=\"2\" halign=\"left\">Culture</th>\n",
       "      <th colspan=\"2\" halign=\"left\">Services</th>\n",
       "    </tr>\n",
       "    <tr>\n",
       "      <th></th>\n",
       "      <th></th>\n",
       "      <th></th>\n",
       "      <th>Restaurants</th>\n",
       "      <th>Museums</th>\n",
       "      <th>Police</th>\n",
       "      <th>Schools</th>\n",
       "    </tr>\n",
       "    <tr>\n",
       "      <th>State</th>\n",
       "      <th>City</th>\n",
       "      <th>Street</th>\n",
       "      <th></th>\n",
       "      <th></th>\n",
       "      <th></th>\n",
       "      <th></th>\n",
       "    </tr>\n",
       "  </thead>\n",
       "  <tbody>\n",
       "    <tr>\n",
       "      <th>MO</th>\n",
       "      <th>Fisherborough</th>\n",
       "      <th>244 Tracy View</th>\n",
       "      <td>C+</td>\n",
       "      <td>F</td>\n",
       "      <td>D-</td>\n",
       "      <td>A+</td>\n",
       "    </tr>\n",
       "    <tr>\n",
       "      <th>SD</th>\n",
       "      <th>Port Curtisville</th>\n",
       "      <th>446 Cynthia Inlet</th>\n",
       "      <td>C-</td>\n",
       "      <td>B</td>\n",
       "      <td>B</td>\n",
       "      <td>D+</td>\n",
       "    </tr>\n",
       "    <tr>\n",
       "      <th>WV</th>\n",
       "      <th>Jimenezview</th>\n",
       "      <th>432 John Common</th>\n",
       "      <td>A</td>\n",
       "      <td>A+</td>\n",
       "      <td>F</td>\n",
       "      <td>B</td>\n",
       "    </tr>\n",
       "    <tr>\n",
       "      <th>AK</th>\n",
       "      <th>Stevenshire</th>\n",
       "      <th>238 Andrew Rue</th>\n",
       "      <td>D-</td>\n",
       "      <td>A</td>\n",
       "      <td>A-</td>\n",
       "      <td>A-</td>\n",
       "    </tr>\n",
       "    <tr>\n",
       "      <th>ND</th>\n",
       "      <th>New Joshuaport</th>\n",
       "      <th>877 Walter Neck</th>\n",
       "      <td>D+</td>\n",
       "      <td>C-</td>\n",
       "      <td>B</td>\n",
       "      <td>B</td>\n",
       "    </tr>\n",
       "  </tbody>\n",
       "</table>\n",
       "</div>"
      ],
      "text/plain": [
       "                                             Culture         Services        \n",
       "                                         Restaurants Museums   Police Schools\n",
       "State City             Street                                                \n",
       "MO    Fisherborough    244 Tracy View             C+       F       D-      A+\n",
       "SD    Port Curtisville 446 Cynthia Inlet          C-       B        B      D+\n",
       "WV    Jimenezview      432 John Common             A      A+        F       B\n",
       "AK    Stevenshire      238 Andrew Rue             D-       A       A-      A-\n",
       "ND    New Joshuaport   877 Walter Neck            D+      C-        B       B"
      ]
     },
     "execution_count": 13,
     "metadata": {},
     "output_type": "execute_result"
    }
   ],
   "source": [
    "neighborhoods = pd.read_csv(\n",
    "    \"data/ch07/neighborhoods.csv\",\n",
    "    index_col=[0, 1, 2],\n",
    "    header=[0, 1]\n",
    ")\n",
    "\n",
    "neighborhoods.head()"
   ]
  },
  {
   "cell_type": "code",
   "execution_count": 14,
   "id": "52ef2d2c-0987-402c-bb07-38e510022325",
   "metadata": {},
   "outputs": [
    {
     "name": "stdout",
     "output_type": "stream",
     "text": [
      "<class 'pandas.core.frame.DataFrame'>\n",
      "MultiIndex: 251 entries, ('MO', 'Fisherborough', '244 Tracy View') to ('NE', 'South Kennethmouth', '346 Wallace Pass')\n",
      "Data columns (total 4 columns):\n",
      " #   Column                  Non-Null Count  Dtype \n",
      "---  ------                  --------------  ----- \n",
      " 0   (Culture, Restaurants)  251 non-null    object\n",
      " 1   (Culture, Museums)      251 non-null    object\n",
      " 2   (Services, Police)      251 non-null    object\n",
      " 3   (Services, Schools)     251 non-null    object\n",
      "dtypes: object(4)\n",
      "memory usage: 27.2+ KB\n"
     ]
    }
   ],
   "source": [
    "neighborhoods.info()"
   ]
  },
  {
   "cell_type": "code",
   "execution_count": 15,
   "id": "e0a99e5c-735d-4f91-9170-21d3bd361f70",
   "metadata": {},
   "outputs": [
    {
     "data": {
      "text/plain": [
       "MultiIndex([('MO',      'Fisherborough',        '244 Tracy View'),\n",
       "            ('SD',   'Port Curtisville',     '446 Cynthia Inlet'),\n",
       "            ('WV',        'Jimenezview',       '432 John Common'),\n",
       "            ('AK',        'Stevenshire',        '238 Andrew Rue'),\n",
       "            ('ND',     'New Joshuaport',       '877 Walter Neck'),\n",
       "            ('ID',         'Wellsville',   '696 Weber Stravenue'),\n",
       "            ('TN',          'Jodiburgh',    '285 Justin Corners'),\n",
       "            ('DC',   'Lake Christopher',   '607 Montoya Harbors'),\n",
       "            ('OH',          'Port Mike',      '041 Michael Neck'),\n",
       "            ('ND',         'Hardyburgh', '550 Gilmore Mountains'),\n",
       "            ...\n",
       "            ('AK',          'Scottstad',      '114 Jones Garden'),\n",
       "            ('IA',    'Port Willieport',  '320 Jennifer Mission'),\n",
       "            ('ME',         'Port Linda',        '692 Hill Glens'),\n",
       "            ('KS',         'Kaylamouth',       '483 Freeman Via'),\n",
       "            ('WA',     'Port Shawnfort',    '691 Winters Bridge'),\n",
       "            ('MI',      'North Matthew',      '055 Clayton Isle'),\n",
       "            ('MT',            'Chadton',     '601 Richards Road'),\n",
       "            ('SC',          'Diazmouth',     '385 Robin Harbors'),\n",
       "            ('VA',         'Laurentown',     '255 Gonzalez Land'),\n",
       "            ('NE', 'South Kennethmouth',      '346 Wallace Pass')],\n",
       "           names=['State', 'City', 'Street'], length=251)"
      ]
     },
     "execution_count": 15,
     "metadata": {},
     "output_type": "execute_result"
    }
   ],
   "source": [
    "neighborhoods.index"
   ]
  },
  {
   "cell_type": "code",
   "execution_count": 16,
   "id": "6f2b5673-490b-44c0-b7e7-bbccddce5b89",
   "metadata": {},
   "outputs": [
    {
     "data": {
      "text/plain": [
       "MultiIndex([( 'Culture', 'Restaurants'),\n",
       "            ( 'Culture',     'Museums'),\n",
       "            ('Services',      'Police'),\n",
       "            ('Services',     'Schools')],\n",
       "           )"
      ]
     },
     "execution_count": 16,
     "metadata": {},
     "output_type": "execute_result"
    }
   ],
   "source": [
    "neighborhoods.columns"
   ]
  },
  {
   "cell_type": "code",
   "execution_count": 17,
   "id": "c9697e61-85bd-4532-9060-9df4bc8cecaa",
   "metadata": {},
   "outputs": [
    {
     "data": {
      "text/plain": [
       "FrozenList(['State', 'City', 'Street'])"
      ]
     },
     "execution_count": 17,
     "metadata": {},
     "output_type": "execute_result"
    }
   ],
   "source": [
    "neighborhoods.index.names"
   ]
  },
  {
   "cell_type": "code",
   "execution_count": 18,
   "id": "210d76f3-38dd-408e-bba0-282938c24e02",
   "metadata": {},
   "outputs": [
    {
     "data": {
      "text/plain": [
       "Index(['Fisherborough', 'Port Curtisville', 'Jimenezview', 'Stevenshire',\n",
       "       'New Joshuaport', 'Wellsville', 'Jodiburgh', 'Lake Christopher',\n",
       "       'Port Mike', 'Hardyburgh',\n",
       "       ...\n",
       "       'Scottstad', 'Port Willieport', 'Port Linda', 'Kaylamouth',\n",
       "       'Port Shawnfort', 'North Matthew', 'Chadton', 'Diazmouth', 'Laurentown',\n",
       "       'South Kennethmouth'],\n",
       "      dtype='object', name='City', length=251)"
      ]
     },
     "execution_count": 18,
     "metadata": {},
     "output_type": "execute_result"
    }
   ],
   "source": [
    "# The two lines below are equivalent\n",
    "neighborhoods.index.get_level_values(1)\n",
    "neighborhoods.index.get_level_values(\"City\")"
   ]
  },
  {
   "cell_type": "code",
   "execution_count": 19,
   "id": "f2df7f59-e353-4731-b346-6c36ff301ebb",
   "metadata": {},
   "outputs": [
    {
     "data": {
      "text/plain": [
       "FrozenList([None, None])"
      ]
     },
     "execution_count": 19,
     "metadata": {},
     "output_type": "execute_result"
    }
   ],
   "source": [
    "neighborhoods.columns.names"
   ]
  },
  {
   "cell_type": "code",
   "execution_count": 20,
   "id": "2c335332-b821-43bd-aec1-417df3ddad25",
   "metadata": {},
   "outputs": [
    {
     "data": {
      "text/plain": [
       "FrozenList(['Category', 'Subcategory'])"
      ]
     },
     "execution_count": 20,
     "metadata": {},
     "output_type": "execute_result"
    }
   ],
   "source": [
    "neighborhoods.columns.names = [\"Category\", \"Subcategory\"]\n",
    "neighborhoods.columns.names"
   ]
  },
  {
   "cell_type": "code",
   "execution_count": 21,
   "id": "2cb95c6d-343d-429b-ac01-21957c3b5d35",
   "metadata": {},
   "outputs": [
    {
     "data": {
      "text/html": [
       "<div>\n",
       "<style scoped>\n",
       "    .dataframe tbody tr th:only-of-type {\n",
       "        vertical-align: middle;\n",
       "    }\n",
       "\n",
       "    .dataframe tbody tr th {\n",
       "        vertical-align: top;\n",
       "    }\n",
       "\n",
       "    .dataframe thead tr th {\n",
       "        text-align: left;\n",
       "    }\n",
       "\n",
       "    .dataframe thead tr:last-of-type th {\n",
       "        text-align: right;\n",
       "    }\n",
       "</style>\n",
       "<table border=\"1\" class=\"dataframe\">\n",
       "  <thead>\n",
       "    <tr>\n",
       "      <th></th>\n",
       "      <th></th>\n",
       "      <th>Category</th>\n",
       "      <th colspan=\"2\" halign=\"left\">Culture</th>\n",
       "      <th colspan=\"2\" halign=\"left\">Services</th>\n",
       "    </tr>\n",
       "    <tr>\n",
       "      <th></th>\n",
       "      <th></th>\n",
       "      <th>Subcategory</th>\n",
       "      <th>Restaurants</th>\n",
       "      <th>Museums</th>\n",
       "      <th>Police</th>\n",
       "      <th>Schools</th>\n",
       "    </tr>\n",
       "    <tr>\n",
       "      <th>State</th>\n",
       "      <th>City</th>\n",
       "      <th>Street</th>\n",
       "      <th></th>\n",
       "      <th></th>\n",
       "      <th></th>\n",
       "      <th></th>\n",
       "    </tr>\n",
       "  </thead>\n",
       "  <tbody>\n",
       "    <tr>\n",
       "      <th>MO</th>\n",
       "      <th>Fisherborough</th>\n",
       "      <th>244 Tracy View</th>\n",
       "      <td>C+</td>\n",
       "      <td>F</td>\n",
       "      <td>D-</td>\n",
       "      <td>A+</td>\n",
       "    </tr>\n",
       "    <tr>\n",
       "      <th>SD</th>\n",
       "      <th>Port Curtisville</th>\n",
       "      <th>446 Cynthia Inlet</th>\n",
       "      <td>C-</td>\n",
       "      <td>B</td>\n",
       "      <td>B</td>\n",
       "      <td>D+</td>\n",
       "    </tr>\n",
       "    <tr>\n",
       "      <th>WV</th>\n",
       "      <th>Jimenezview</th>\n",
       "      <th>432 John Common</th>\n",
       "      <td>A</td>\n",
       "      <td>A+</td>\n",
       "      <td>F</td>\n",
       "      <td>B</td>\n",
       "    </tr>\n",
       "  </tbody>\n",
       "</table>\n",
       "</div>"
      ],
      "text/plain": [
       "Category                                     Culture         Services        \n",
       "Subcategory                              Restaurants Museums   Police Schools\n",
       "State City             Street                                                \n",
       "MO    Fisherborough    244 Tracy View             C+       F       D-      A+\n",
       "SD    Port Curtisville 446 Cynthia Inlet          C-       B        B      D+\n",
       "WV    Jimenezview      432 John Common             A      A+        F       B"
      ]
     },
     "execution_count": 21,
     "metadata": {},
     "output_type": "execute_result"
    }
   ],
   "source": [
    "neighborhoods.head(3)"
   ]
  },
  {
   "cell_type": "code",
   "execution_count": 22,
   "id": "483d2d23-ed31-49c9-bc34-106c696cef11",
   "metadata": {},
   "outputs": [
    {
     "data": {
      "text/plain": [
       "Index(['Culture', 'Culture', 'Services', 'Services'], dtype='object', name='Category')"
      ]
     },
     "execution_count": 22,
     "metadata": {},
     "output_type": "execute_result"
    }
   ],
   "source": [
    "# The two lines below are equivalent\n",
    "neighborhoods.columns.get_level_values(0)\n",
    "neighborhoods.columns.get_level_values(\"Category\")"
   ]
  },
  {
   "cell_type": "code",
   "execution_count": 23,
   "id": "9db334f2-3972-43b0-98f2-69dfc4380c81",
   "metadata": {},
   "outputs": [
    {
     "data": {
      "text/html": [
       "<div>\n",
       "<style scoped>\n",
       "    .dataframe tbody tr th:only-of-type {\n",
       "        vertical-align: middle;\n",
       "    }\n",
       "\n",
       "    .dataframe tbody tr th {\n",
       "        vertical-align: top;\n",
       "    }\n",
       "\n",
       "    .dataframe thead tr th {\n",
       "        text-align: left;\n",
       "    }\n",
       "\n",
       "    .dataframe thead tr:last-of-type th {\n",
       "        text-align: right;\n",
       "    }\n",
       "</style>\n",
       "<table border=\"1\" class=\"dataframe\">\n",
       "  <thead>\n",
       "    <tr>\n",
       "      <th></th>\n",
       "      <th></th>\n",
       "      <th>Category</th>\n",
       "      <th colspan=\"2\" halign=\"left\">Culture</th>\n",
       "      <th colspan=\"2\" halign=\"left\">Services</th>\n",
       "    </tr>\n",
       "    <tr>\n",
       "      <th></th>\n",
       "      <th></th>\n",
       "      <th>Subcategory</th>\n",
       "      <th>Restaurants</th>\n",
       "      <th>Museums</th>\n",
       "      <th>Police</th>\n",
       "      <th>Schools</th>\n",
       "    </tr>\n",
       "    <tr>\n",
       "      <th>State</th>\n",
       "      <th>City</th>\n",
       "      <th>Street</th>\n",
       "      <th></th>\n",
       "      <th></th>\n",
       "      <th></th>\n",
       "      <th></th>\n",
       "    </tr>\n",
       "  </thead>\n",
       "  <tbody>\n",
       "    <tr>\n",
       "      <th>MO</th>\n",
       "      <th>Fisherborough</th>\n",
       "      <th>244 Tracy View</th>\n",
       "      <td>C+</td>\n",
       "      <td>F</td>\n",
       "      <td>D-</td>\n",
       "      <td>A+</td>\n",
       "    </tr>\n",
       "  </tbody>\n",
       "</table>\n",
       "</div>"
      ],
      "text/plain": [
       "Category                               Culture         Services        \n",
       "Subcategory                        Restaurants Museums   Police Schools\n",
       "State City          Street                                             \n",
       "MO    Fisherborough 244 Tracy View          C+       F       D-      A+"
      ]
     },
     "execution_count": 23,
     "metadata": {},
     "output_type": "execute_result"
    }
   ],
   "source": [
    "neighborhoods.head(1)"
   ]
  },
  {
   "cell_type": "code",
   "execution_count": 24,
   "id": "3d78a9cc-3e6e-46ce-aca5-27806df7cc99",
   "metadata": {},
   "outputs": [
    {
     "data": {
      "text/plain": [
       "Category  Subcategory\n",
       "Culture   Restaurants    13\n",
       "          Museums        13\n",
       "Services  Police         13\n",
       "          Schools        13\n",
       "dtype: int64"
      ]
     },
     "execution_count": 24,
     "metadata": {},
     "output_type": "execute_result"
    }
   ],
   "source": [
    "neighborhoods.nunique()"
   ]
  }
 ],
 "metadata": {
  "kernelspec": {
   "display_name": "Python 3 (ipykernel)",
   "language": "python",
   "name": "python3"
  },
  "language_info": {
   "codemirror_mode": {
    "name": "ipython",
    "version": 3
   },
   "file_extension": ".py",
   "mimetype": "text/x-python",
   "name": "python",
   "nbconvert_exporter": "python",
   "pygments_lexer": "ipython3",
   "version": "3.11.3"
  }
 },
 "nbformat": 4,
 "nbformat_minor": 5
}
