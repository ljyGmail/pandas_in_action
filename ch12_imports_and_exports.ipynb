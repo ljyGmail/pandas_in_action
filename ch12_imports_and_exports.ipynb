{
 "cells": [
  {
   "cell_type": "markdown",
   "id": "237fe7ab-d787-4f64-bb1f-41aa7971fc98",
   "metadata": {},
   "source": [
    "# Chapter 12: Imports and exports"
   ]
  },
  {
   "cell_type": "markdown",
   "id": "08566207-26f2-4c64-975d-f3e935dcb908",
   "metadata": {},
   "source": [
    "## 12.1 Reading from and writing to JSON files"
   ]
  },
  {
   "cell_type": "markdown",
   "id": "b80b580a-6205-4b55-8380-fcb4eb48be24",
   "metadata": {},
   "source": [
    "### 12.1.1 Loading a JSON file Into a DataFrame"
   ]
  },
  {
   "cell_type": "code",
   "execution_count": 1,
   "id": "8c69af2a-36da-4acb-b96d-e006e3814efa",
   "metadata": {},
   "outputs": [],
   "source": [
    "import pandas as pd"
   ]
  },
  {
   "cell_type": "code",
   "execution_count": 2,
   "id": "532bdd8c-6e50-484d-b861-edd3896fec90",
   "metadata": {},
   "outputs": [
    {
     "data": {
      "text/html": [
       "<div>\n",
       "<style scoped>\n",
       "    .dataframe tbody tr th:only-of-type {\n",
       "        vertical-align: middle;\n",
       "    }\n",
       "\n",
       "    .dataframe tbody tr th {\n",
       "        vertical-align: top;\n",
       "    }\n",
       "\n",
       "    .dataframe thead th {\n",
       "        text-align: right;\n",
       "    }\n",
       "</style>\n",
       "<table border=\"1\" class=\"dataframe\">\n",
       "  <thead>\n",
       "    <tr style=\"text-align: right;\">\n",
       "      <th></th>\n",
       "      <th>prizes</th>\n",
       "    </tr>\n",
       "  </thead>\n",
       "  <tbody>\n",
       "    <tr>\n",
       "      <th>0</th>\n",
       "      <td>{'year': '2019', 'category': 'chemistry', 'lau...</td>\n",
       "    </tr>\n",
       "    <tr>\n",
       "      <th>1</th>\n",
       "      <td>{'year': '2019', 'category': 'economics', 'lau...</td>\n",
       "    </tr>\n",
       "    <tr>\n",
       "      <th>2</th>\n",
       "      <td>{'year': '2019', 'category': 'literature', 'la...</td>\n",
       "    </tr>\n",
       "    <tr>\n",
       "      <th>3</th>\n",
       "      <td>{'year': '2019', 'category': 'peace', 'laureat...</td>\n",
       "    </tr>\n",
       "    <tr>\n",
       "      <th>4</th>\n",
       "      <td>{'year': '2019', 'category': 'physics', 'overa...</td>\n",
       "    </tr>\n",
       "  </tbody>\n",
       "</table>\n",
       "</div>"
      ],
      "text/plain": [
       "                                              prizes\n",
       "0  {'year': '2019', 'category': 'chemistry', 'lau...\n",
       "1  {'year': '2019', 'category': 'economics', 'lau...\n",
       "2  {'year': '2019', 'category': 'literature', 'la...\n",
       "3  {'year': '2019', 'category': 'peace', 'laureat...\n",
       "4  {'year': '2019', 'category': 'physics', 'overa..."
      ]
     },
     "execution_count": 2,
     "metadata": {},
     "output_type": "execute_result"
    }
   ],
   "source": [
    "nobel = pd.read_json(\"data/ch12/nobel.json\")\n",
    "nobel.head()"
   ]
  },
  {
   "cell_type": "code",
   "execution_count": 3,
   "id": "9d91b5b1-92c6-4aec-aed0-13168a428d22",
   "metadata": {},
   "outputs": [
    {
     "data": {
      "text/plain": [
       "{'year': '2019',\n",
       " 'category': 'literature',\n",
       " 'laureates': [{'id': '980',\n",
       "   'firstname': 'Peter',\n",
       "   'surname': 'Handke',\n",
       "   'motivation': '\"for an influential work that with linguistic ingenuity has explored the periphery and the specificity of human experience\"',\n",
       "   'share': '1'}]}"
      ]
     },
     "execution_count": 3,
     "metadata": {},
     "output_type": "execute_result"
    }
   ],
   "source": [
    "nobel.loc[2, \"prizes\"]"
   ]
  },
  {
   "cell_type": "code",
   "execution_count": 4,
   "id": "533d1902-1e4b-4109-a724-e6a4a34bed93",
   "metadata": {},
   "outputs": [
    {
     "data": {
      "text/plain": [
       "dict"
      ]
     },
     "execution_count": 4,
     "metadata": {},
     "output_type": "execute_result"
    }
   ],
   "source": [
    "type(nobel.loc[2, \"prizes\"])"
   ]
  },
  {
   "cell_type": "code",
   "execution_count": 5,
   "id": "fc0aa51e-d483-43f7-9bfd-d8003a9d5b8e",
   "metadata": {},
   "outputs": [
    {
     "data": {
      "text/plain": [
       "{'year': '2019',\n",
       " 'category': 'chemistry',\n",
       " 'laureates': [{'id': '976',\n",
       "   'firstname': 'John',\n",
       "   'surname': 'Goodenough',\n",
       "   'motivation': '\"for the development of lithium-ion batteries\"',\n",
       "   'share': '3'},\n",
       "  {'id': '977',\n",
       "   'firstname': 'M. Stanley',\n",
       "   'surname': 'Whittingham',\n",
       "   'motivation': '\"for the development of lithium-ion batteries\"',\n",
       "   'share': '3'},\n",
       "  {'id': '978',\n",
       "   'firstname': 'Akira',\n",
       "   'surname': 'Yoshino',\n",
       "   'motivation': '\"for the development of lithium-ion batteries\"',\n",
       "   'share': '3'}]}"
      ]
     },
     "execution_count": 5,
     "metadata": {},
     "output_type": "execute_result"
    }
   ],
   "source": [
    "chemistry_2019 = nobel.loc[0, \"prizes\"]\n",
    "chemistry_2019"
   ]
  },
  {
   "cell_type": "code",
   "execution_count": 6,
   "id": "d9494d8e-60e2-4dc9-b4c2-da4c577732c2",
   "metadata": {},
   "outputs": [
    {
     "data": {
      "text/html": [
       "<div>\n",
       "<style scoped>\n",
       "    .dataframe tbody tr th:only-of-type {\n",
       "        vertical-align: middle;\n",
       "    }\n",
       "\n",
       "    .dataframe tbody tr th {\n",
       "        vertical-align: top;\n",
       "    }\n",
       "\n",
       "    .dataframe thead th {\n",
       "        text-align: right;\n",
       "    }\n",
       "</style>\n",
       "<table border=\"1\" class=\"dataframe\">\n",
       "  <thead>\n",
       "    <tr style=\"text-align: right;\">\n",
       "      <th></th>\n",
       "      <th>year</th>\n",
       "      <th>category</th>\n",
       "      <th>laureates</th>\n",
       "    </tr>\n",
       "  </thead>\n",
       "  <tbody>\n",
       "    <tr>\n",
       "      <th>0</th>\n",
       "      <td>2019</td>\n",
       "      <td>chemistry</td>\n",
       "      <td>[{'id': '976', 'firstname': 'John', 'surname':...</td>\n",
       "    </tr>\n",
       "  </tbody>\n",
       "</table>\n",
       "</div>"
      ],
      "text/plain": [
       "   year   category                                          laureates\n",
       "0  2019  chemistry  [{'id': '976', 'firstname': 'John', 'surname':..."
      ]
     },
     "execution_count": 6,
     "metadata": {},
     "output_type": "execute_result"
    }
   ],
   "source": [
    "pd.json_normalize(data=chemistry_2019)"
   ]
  },
  {
   "cell_type": "code",
   "execution_count": 7,
   "id": "0e496a24-0cad-4358-9d4e-660906330a9c",
   "metadata": {},
   "outputs": [
    {
     "data": {
      "text/html": [
       "<div>\n",
       "<style scoped>\n",
       "    .dataframe tbody tr th:only-of-type {\n",
       "        vertical-align: middle;\n",
       "    }\n",
       "\n",
       "    .dataframe tbody tr th {\n",
       "        vertical-align: top;\n",
       "    }\n",
       "\n",
       "    .dataframe thead th {\n",
       "        text-align: right;\n",
       "    }\n",
       "</style>\n",
       "<table border=\"1\" class=\"dataframe\">\n",
       "  <thead>\n",
       "    <tr style=\"text-align: right;\">\n",
       "      <th></th>\n",
       "      <th>id</th>\n",
       "      <th>firstname</th>\n",
       "      <th>surname</th>\n",
       "      <th>motivation</th>\n",
       "      <th>share</th>\n",
       "    </tr>\n",
       "  </thead>\n",
       "  <tbody>\n",
       "    <tr>\n",
       "      <th>0</th>\n",
       "      <td>976</td>\n",
       "      <td>John</td>\n",
       "      <td>Goodenough</td>\n",
       "      <td>\"for the development of lithium-ion batteries\"</td>\n",
       "      <td>3</td>\n",
       "    </tr>\n",
       "    <tr>\n",
       "      <th>1</th>\n",
       "      <td>977</td>\n",
       "      <td>M. Stanley</td>\n",
       "      <td>Whittingham</td>\n",
       "      <td>\"for the development of lithium-ion batteries\"</td>\n",
       "      <td>3</td>\n",
       "    </tr>\n",
       "    <tr>\n",
       "      <th>2</th>\n",
       "      <td>978</td>\n",
       "      <td>Akira</td>\n",
       "      <td>Yoshino</td>\n",
       "      <td>\"for the development of lithium-ion batteries\"</td>\n",
       "      <td>3</td>\n",
       "    </tr>\n",
       "  </tbody>\n",
       "</table>\n",
       "</div>"
      ],
      "text/plain": [
       "    id   firstname      surname  \\\n",
       "0  976        John   Goodenough   \n",
       "1  977  M. Stanley  Whittingham   \n",
       "2  978       Akira      Yoshino   \n",
       "\n",
       "                                       motivation share  \n",
       "0  \"for the development of lithium-ion batteries\"     3  \n",
       "1  \"for the development of lithium-ion batteries\"     3  \n",
       "2  \"for the development of lithium-ion batteries\"     3  "
      ]
     },
     "execution_count": 7,
     "metadata": {},
     "output_type": "execute_result"
    }
   ],
   "source": [
    "pd.json_normalize(data=chemistry_2019, record_path=\"laureates\")"
   ]
  },
  {
   "cell_type": "code",
   "execution_count": 8,
   "id": "46dbe258-1235-4960-8d30-21fdc78fe3b5",
   "metadata": {},
   "outputs": [
    {
     "data": {
      "text/html": [
       "<div>\n",
       "<style scoped>\n",
       "    .dataframe tbody tr th:only-of-type {\n",
       "        vertical-align: middle;\n",
       "    }\n",
       "\n",
       "    .dataframe tbody tr th {\n",
       "        vertical-align: top;\n",
       "    }\n",
       "\n",
       "    .dataframe thead th {\n",
       "        text-align: right;\n",
       "    }\n",
       "</style>\n",
       "<table border=\"1\" class=\"dataframe\">\n",
       "  <thead>\n",
       "    <tr style=\"text-align: right;\">\n",
       "      <th></th>\n",
       "      <th>id</th>\n",
       "      <th>firstname</th>\n",
       "      <th>surname</th>\n",
       "      <th>motivation</th>\n",
       "      <th>share</th>\n",
       "      <th>year</th>\n",
       "      <th>category</th>\n",
       "    </tr>\n",
       "  </thead>\n",
       "  <tbody>\n",
       "    <tr>\n",
       "      <th>0</th>\n",
       "      <td>976</td>\n",
       "      <td>John</td>\n",
       "      <td>Goodenough</td>\n",
       "      <td>\"for the development of lithium-ion batteries\"</td>\n",
       "      <td>3</td>\n",
       "      <td>2019</td>\n",
       "      <td>chemistry</td>\n",
       "    </tr>\n",
       "    <tr>\n",
       "      <th>1</th>\n",
       "      <td>977</td>\n",
       "      <td>M. Stanley</td>\n",
       "      <td>Whittingham</td>\n",
       "      <td>\"for the development of lithium-ion batteries\"</td>\n",
       "      <td>3</td>\n",
       "      <td>2019</td>\n",
       "      <td>chemistry</td>\n",
       "    </tr>\n",
       "    <tr>\n",
       "      <th>2</th>\n",
       "      <td>978</td>\n",
       "      <td>Akira</td>\n",
       "      <td>Yoshino</td>\n",
       "      <td>\"for the development of lithium-ion batteries\"</td>\n",
       "      <td>3</td>\n",
       "      <td>2019</td>\n",
       "      <td>chemistry</td>\n",
       "    </tr>\n",
       "  </tbody>\n",
       "</table>\n",
       "</div>"
      ],
      "text/plain": [
       "    id   firstname      surname  \\\n",
       "0  976        John   Goodenough   \n",
       "1  977  M. Stanley  Whittingham   \n",
       "2  978       Akira      Yoshino   \n",
       "\n",
       "                                       motivation share  year   category  \n",
       "0  \"for the development of lithium-ion batteries\"     3  2019  chemistry  \n",
       "1  \"for the development of lithium-ion batteries\"     3  2019  chemistry  \n",
       "2  \"for the development of lithium-ion batteries\"     3  2019  chemistry  "
      ]
     },
     "execution_count": 8,
     "metadata": {},
     "output_type": "execute_result"
    }
   ],
   "source": [
    "pd.json_normalize(\n",
    "    data=chemistry_2019,\n",
    "    record_path=\"laureates\",\n",
    "    meta=[\"year\", \"category\"]\n",
    ")"
   ]
  },
  {
   "cell_type": "code",
   "execution_count": 9,
   "id": "4406f985-6ef7-4f5e-8134-fbb02234836d",
   "metadata": {},
   "outputs": [],
   "source": [
    "# pd.json_normalize(\n",
    "#     data=nobel[\"prizes\"],\n",
    "#     record_path=\"laureates\",\n",
    "#     meta=[\"year\", \"category\"]\n",
    "# )\n",
    "# KeyError: Some dictionaries in the prizes Series do not have a \"laureates\" key."
   ]
  },
  {
   "cell_type": "code",
   "execution_count": 10,
   "id": "4d2c2572-8b9e-4e79-97ff-c5a7608d1434",
   "metadata": {},
   "outputs": [],
   "source": [
    "# review the setdefault method\n",
    "cheese_consumption = {\n",
    "    \"France\": 57.9,\n",
    "    \"Germany\": 53.2,\n",
    "    \"Luxembourg\": 53.2\n",
    "}"
   ]
  },
  {
   "cell_type": "code",
   "execution_count": 11,
   "id": "a9f6a2f2-c994-4be2-ac32-e4016d7a2ce8",
   "metadata": {},
   "outputs": [
    {
     "data": {
      "text/plain": [
       "57.9"
      ]
     },
     "execution_count": 11,
     "metadata": {},
     "output_type": "execute_result"
    }
   ],
   "source": [
    "cheese_consumption.setdefault(\"France\", 100)"
   ]
  },
  {
   "cell_type": "code",
   "execution_count": 12,
   "id": "a26db9e6-3098-4863-9574-13d7a2b9c750",
   "metadata": {},
   "outputs": [
    {
     "data": {
      "text/plain": [
       "57.9"
      ]
     },
     "execution_count": 12,
     "metadata": {},
     "output_type": "execute_result"
    }
   ],
   "source": [
    "cheese_consumption[\"France\"]"
   ]
  },
  {
   "cell_type": "code",
   "execution_count": 13,
   "id": "cd06ac01-cff4-4990-87cf-f48d6f755634",
   "metadata": {},
   "outputs": [
    {
     "data": {
      "text/plain": [
       "48"
      ]
     },
     "execution_count": 13,
     "metadata": {},
     "output_type": "execute_result"
    }
   ],
   "source": [
    "cheese_consumption.setdefault(\"Italy\", 48)"
   ]
  },
  {
   "cell_type": "code",
   "execution_count": 14,
   "id": "e509f8c0-b0a3-4b43-9008-e0c8445feff7",
   "metadata": {},
   "outputs": [
    {
     "data": {
      "text/plain": [
       "{'France': 57.9, 'Germany': 53.2, 'Luxembourg': 53.2, 'Italy': 48}"
      ]
     },
     "execution_count": 14,
     "metadata": {},
     "output_type": "execute_result"
    }
   ],
   "source": [
    "cheese_consumption"
   ]
  },
  {
   "cell_type": "code",
   "execution_count": 15,
   "id": "c458c6b7-7a7f-4e5d-a80a-e679481eed61",
   "metadata": {},
   "outputs": [
    {
     "data": {
      "text/plain": [
       "0      None\n",
       "1      None\n",
       "2      None\n",
       "3      None\n",
       "4      None\n",
       "       ... \n",
       "641    None\n",
       "642    None\n",
       "643    None\n",
       "644    None\n",
       "645    None\n",
       "Name: prizes, Length: 646, dtype: object"
      ]
     },
     "execution_count": 15,
     "metadata": {},
     "output_type": "execute_result"
    }
   ],
   "source": [
    "def add_laureates_key(entry):\n",
    "    entry.setdefault(\"laureates\", [])\n",
    "\n",
    "nobel[\"prizes\"].apply(add_laureates_key)"
   ]
  },
  {
   "cell_type": "code",
   "execution_count": 16,
   "id": "93a0b474-1a3f-4611-bb30-1f3f8c35f352",
   "metadata": {},
   "outputs": [
    {
     "data": {
      "text/html": [
       "<div>\n",
       "<style scoped>\n",
       "    .dataframe tbody tr th:only-of-type {\n",
       "        vertical-align: middle;\n",
       "    }\n",
       "\n",
       "    .dataframe tbody tr th {\n",
       "        vertical-align: top;\n",
       "    }\n",
       "\n",
       "    .dataframe thead th {\n",
       "        text-align: right;\n",
       "    }\n",
       "</style>\n",
       "<table border=\"1\" class=\"dataframe\">\n",
       "  <thead>\n",
       "    <tr style=\"text-align: right;\">\n",
       "      <th></th>\n",
       "      <th>id</th>\n",
       "      <th>firstname</th>\n",
       "      <th>surname</th>\n",
       "      <th>motivation</th>\n",
       "      <th>share</th>\n",
       "      <th>year</th>\n",
       "      <th>category</th>\n",
       "    </tr>\n",
       "  </thead>\n",
       "  <tbody>\n",
       "    <tr>\n",
       "      <th>0</th>\n",
       "      <td>976</td>\n",
       "      <td>John</td>\n",
       "      <td>Goodenough</td>\n",
       "      <td>\"for the development of lithium-ion batteries\"</td>\n",
       "      <td>3</td>\n",
       "      <td>2019</td>\n",
       "      <td>chemistry</td>\n",
       "    </tr>\n",
       "    <tr>\n",
       "      <th>1</th>\n",
       "      <td>977</td>\n",
       "      <td>M. Stanley</td>\n",
       "      <td>Whittingham</td>\n",
       "      <td>\"for the development of lithium-ion batteries\"</td>\n",
       "      <td>3</td>\n",
       "      <td>2019</td>\n",
       "      <td>chemistry</td>\n",
       "    </tr>\n",
       "    <tr>\n",
       "      <th>2</th>\n",
       "      <td>978</td>\n",
       "      <td>Akira</td>\n",
       "      <td>Yoshino</td>\n",
       "      <td>\"for the development of lithium-ion batteries\"</td>\n",
       "      <td>3</td>\n",
       "      <td>2019</td>\n",
       "      <td>chemistry</td>\n",
       "    </tr>\n",
       "    <tr>\n",
       "      <th>3</th>\n",
       "      <td>982</td>\n",
       "      <td>Abhijit</td>\n",
       "      <td>Banerjee</td>\n",
       "      <td>\"for their experimental approach to alleviatin...</td>\n",
       "      <td>3</td>\n",
       "      <td>2019</td>\n",
       "      <td>economics</td>\n",
       "    </tr>\n",
       "    <tr>\n",
       "      <th>4</th>\n",
       "      <td>983</td>\n",
       "      <td>Esther</td>\n",
       "      <td>Duflo</td>\n",
       "      <td>\"for their experimental approach to alleviatin...</td>\n",
       "      <td>3</td>\n",
       "      <td>2019</td>\n",
       "      <td>economics</td>\n",
       "    </tr>\n",
       "    <tr>\n",
       "      <th>...</th>\n",
       "      <td>...</td>\n",
       "      <td>...</td>\n",
       "      <td>...</td>\n",
       "      <td>...</td>\n",
       "      <td>...</td>\n",
       "      <td>...</td>\n",
       "      <td>...</td>\n",
       "    </tr>\n",
       "    <tr>\n",
       "      <th>945</th>\n",
       "      <td>569</td>\n",
       "      <td>Sully</td>\n",
       "      <td>Prudhomme</td>\n",
       "      <td>\"in special recognition of his poetic composit...</td>\n",
       "      <td>1</td>\n",
       "      <td>1901</td>\n",
       "      <td>literature</td>\n",
       "    </tr>\n",
       "    <tr>\n",
       "      <th>946</th>\n",
       "      <td>462</td>\n",
       "      <td>Henry</td>\n",
       "      <td>Dunant</td>\n",
       "      <td>\"for his humanitarian efforts to help wounded ...</td>\n",
       "      <td>2</td>\n",
       "      <td>1901</td>\n",
       "      <td>peace</td>\n",
       "    </tr>\n",
       "    <tr>\n",
       "      <th>947</th>\n",
       "      <td>463</td>\n",
       "      <td>Frédéric</td>\n",
       "      <td>Passy</td>\n",
       "      <td>\"for his lifelong work for international peace...</td>\n",
       "      <td>2</td>\n",
       "      <td>1901</td>\n",
       "      <td>peace</td>\n",
       "    </tr>\n",
       "    <tr>\n",
       "      <th>948</th>\n",
       "      <td>1</td>\n",
       "      <td>Wilhelm Conrad</td>\n",
       "      <td>Röntgen</td>\n",
       "      <td>\"in recognition of the extraordinary services ...</td>\n",
       "      <td>1</td>\n",
       "      <td>1901</td>\n",
       "      <td>physics</td>\n",
       "    </tr>\n",
       "    <tr>\n",
       "      <th>949</th>\n",
       "      <td>293</td>\n",
       "      <td>Emil</td>\n",
       "      <td>von Behring</td>\n",
       "      <td>\"for his work on serum therapy, especially its...</td>\n",
       "      <td>1</td>\n",
       "      <td>1901</td>\n",
       "      <td>medicine</td>\n",
       "    </tr>\n",
       "  </tbody>\n",
       "</table>\n",
       "<p>950 rows × 7 columns</p>\n",
       "</div>"
      ],
      "text/plain": [
       "      id       firstname      surname  \\\n",
       "0    976            John   Goodenough   \n",
       "1    977      M. Stanley  Whittingham   \n",
       "2    978           Akira      Yoshino   \n",
       "3    982         Abhijit     Banerjee   \n",
       "4    983          Esther        Duflo   \n",
       "..   ...             ...          ...   \n",
       "945  569           Sully    Prudhomme   \n",
       "946  462           Henry       Dunant   \n",
       "947  463        Frédéric        Passy   \n",
       "948    1  Wilhelm Conrad      Röntgen   \n",
       "949  293            Emil  von Behring   \n",
       "\n",
       "                                            motivation share  year    category  \n",
       "0       \"for the development of lithium-ion batteries\"     3  2019   chemistry  \n",
       "1       \"for the development of lithium-ion batteries\"     3  2019   chemistry  \n",
       "2       \"for the development of lithium-ion batteries\"     3  2019   chemistry  \n",
       "3    \"for their experimental approach to alleviatin...     3  2019   economics  \n",
       "4    \"for their experimental approach to alleviatin...     3  2019   economics  \n",
       "..                                                 ...   ...   ...         ...  \n",
       "945  \"in special recognition of his poetic composit...     1  1901  literature  \n",
       "946  \"for his humanitarian efforts to help wounded ...     2  1901       peace  \n",
       "947  \"for his lifelong work for international peace...     2  1901       peace  \n",
       "948  \"in recognition of the extraordinary services ...     1  1901     physics  \n",
       "949  \"for his work on serum therapy, especially its...     1  1901    medicine  \n",
       "\n",
       "[950 rows x 7 columns]"
      ]
     },
     "execution_count": 16,
     "metadata": {},
     "output_type": "execute_result"
    }
   ],
   "source": [
    "winners = pd.json_normalize(\n",
    "    data=nobel[\"prizes\"],\n",
    "    record_path=\"laureates\",\n",
    "    meta=[\"year\", \"category\"]\n",
    ")\n",
    "\n",
    "winners"
   ]
  },
  {
   "cell_type": "markdown",
   "id": "c1460a74-372e-4d0f-acea-03b2d4674ca4",
   "metadata": {},
   "source": [
    "### 12.1.2 Exporting a DataFrame to a JSON file"
   ]
  },
  {
   "cell_type": "code",
   "execution_count": 17,
   "id": "0dfc70df-3d6a-43ce-a2bc-18a8826fc9ec",
   "metadata": {},
   "outputs": [
    {
     "data": {
      "text/html": [
       "<div>\n",
       "<style scoped>\n",
       "    .dataframe tbody tr th:only-of-type {\n",
       "        vertical-align: middle;\n",
       "    }\n",
       "\n",
       "    .dataframe tbody tr th {\n",
       "        vertical-align: top;\n",
       "    }\n",
       "\n",
       "    .dataframe thead th {\n",
       "        text-align: right;\n",
       "    }\n",
       "</style>\n",
       "<table border=\"1\" class=\"dataframe\">\n",
       "  <thead>\n",
       "    <tr style=\"text-align: right;\">\n",
       "      <th></th>\n",
       "      <th>id</th>\n",
       "      <th>firstname</th>\n",
       "      <th>surname</th>\n",
       "      <th>motivation</th>\n",
       "      <th>share</th>\n",
       "      <th>year</th>\n",
       "      <th>category</th>\n",
       "    </tr>\n",
       "  </thead>\n",
       "  <tbody>\n",
       "    <tr>\n",
       "      <th>0</th>\n",
       "      <td>976</td>\n",
       "      <td>John</td>\n",
       "      <td>Goodenough</td>\n",
       "      <td>\"for the development of lithium-ion batteries\"</td>\n",
       "      <td>3</td>\n",
       "      <td>2019</td>\n",
       "      <td>chemistry</td>\n",
       "    </tr>\n",
       "    <tr>\n",
       "      <th>1</th>\n",
       "      <td>977</td>\n",
       "      <td>M. Stanley</td>\n",
       "      <td>Whittingham</td>\n",
       "      <td>\"for the development of lithium-ion batteries\"</td>\n",
       "      <td>3</td>\n",
       "      <td>2019</td>\n",
       "      <td>chemistry</td>\n",
       "    </tr>\n",
       "  </tbody>\n",
       "</table>\n",
       "</div>"
      ],
      "text/plain": [
       "    id   firstname      surname  \\\n",
       "0  976        John   Goodenough   \n",
       "1  977  M. Stanley  Whittingham   \n",
       "\n",
       "                                       motivation share  year   category  \n",
       "0  \"for the development of lithium-ion batteries\"     3  2019  chemistry  \n",
       "1  \"for the development of lithium-ion batteries\"     3  2019  chemistry  "
      ]
     },
     "execution_count": 17,
     "metadata": {},
     "output_type": "execute_result"
    }
   ],
   "source": [
    "winners.head(2)"
   ]
  },
  {
   "cell_type": "code",
   "execution_count": 18,
   "id": "7cf5c3e8-068f-489f-a123-e5752f54c74b",
   "metadata": {},
   "outputs": [
    {
     "data": {
      "text/plain": [
       "'[{\"id\":\"976\",\"firstname\":\"John\",\"surname\":\"Goodenough\",\"motivation\":\"\\\\\"for the development of lithium-ion batteries\\\\\"\",\"share\":\"3\",\"year\":\"2019\",\"category\":\"chemistry\"},{\"id\":\"977\",\"firstname\":\"M. Stanley\",\"surname\":\"Whittingham\",\"motivation\":\"\\\\\"for the development of lithium-ion batteries\\\\\"\",\"share\":\"3\",\"year\":\"2019\",\"category\":\"chemistry\"}]'"
      ]
     },
     "execution_count": 18,
     "metadata": {},
     "output_type": "execute_result"
    }
   ],
   "source": [
    "winners.head(2).to_json(orient=\"records\")"
   ]
  },
  {
   "cell_type": "code",
   "execution_count": 19,
   "id": "130db205-3716-471c-954f-fe71f86654d5",
   "metadata": {},
   "outputs": [
    {
     "data": {
      "text/plain": [
       "'{\"columns\":[\"id\",\"firstname\",\"surname\",\"motivation\",\"share\",\"year\",\"category\"],\"index\":[0,1],\"data\":[[\"976\",\"John\",\"Goodenough\",\"\\\\\"for the development of lithium-ion batteries\\\\\"\",\"3\",\"2019\",\"chemistry\"],[\"977\",\"M. Stanley\",\"Whittingham\",\"\\\\\"for the development of lithium-ion batteries\\\\\"\",\"3\",\"2019\",\"chemistry\"]]}'"
      ]
     },
     "execution_count": 19,
     "metadata": {},
     "output_type": "execute_result"
    }
   ],
   "source": [
    "winners.head(2).to_json(orient=\"split\")"
   ]
  },
  {
   "cell_type": "code",
   "execution_count": 20,
   "id": "08c1bd8f-85df-4560-9d28-f1c07fa57f49",
   "metadata": {},
   "outputs": [],
   "source": [
    "winners.to_json(\"data/ch12/winners.json\", orient=\"records\")"
   ]
  },
  {
   "cell_type": "markdown",
   "id": "dd298590-98d5-4368-9ee8-dab627ce92d9",
   "metadata": {},
   "source": [
    "## 12.2 Reading from and writing to CSV files"
   ]
  },
  {
   "cell_type": "code",
   "execution_count": 21,
   "id": "964315c3-0c50-4d4e-ba6e-e876931fd4be",
   "metadata": {},
   "outputs": [
    {
     "data": {
      "text/html": [
       "<div>\n",
       "<style scoped>\n",
       "    .dataframe tbody tr th:only-of-type {\n",
       "        vertical-align: middle;\n",
       "    }\n",
       "\n",
       "    .dataframe tbody tr th {\n",
       "        vertical-align: top;\n",
       "    }\n",
       "\n",
       "    .dataframe thead th {\n",
       "        text-align: right;\n",
       "    }\n",
       "</style>\n",
       "<table border=\"1\" class=\"dataframe\">\n",
       "  <thead>\n",
       "    <tr style=\"text-align: right;\">\n",
       "      <th></th>\n",
       "      <th>Year of Birth</th>\n",
       "      <th>Gender</th>\n",
       "      <th>Ethnicity</th>\n",
       "      <th>Child's First Name</th>\n",
       "      <th>Count</th>\n",
       "      <th>Rank</th>\n",
       "    </tr>\n",
       "  </thead>\n",
       "  <tbody>\n",
       "    <tr>\n",
       "      <th>0</th>\n",
       "      <td>2011</td>\n",
       "      <td>FEMALE</td>\n",
       "      <td>HISPANIC</td>\n",
       "      <td>GERALDINE</td>\n",
       "      <td>13</td>\n",
       "      <td>75</td>\n",
       "    </tr>\n",
       "    <tr>\n",
       "      <th>1</th>\n",
       "      <td>2011</td>\n",
       "      <td>FEMALE</td>\n",
       "      <td>HISPANIC</td>\n",
       "      <td>GIA</td>\n",
       "      <td>21</td>\n",
       "      <td>67</td>\n",
       "    </tr>\n",
       "    <tr>\n",
       "      <th>2</th>\n",
       "      <td>2011</td>\n",
       "      <td>FEMALE</td>\n",
       "      <td>HISPANIC</td>\n",
       "      <td>GIANNA</td>\n",
       "      <td>49</td>\n",
       "      <td>42</td>\n",
       "    </tr>\n",
       "    <tr>\n",
       "      <th>3</th>\n",
       "      <td>2011</td>\n",
       "      <td>FEMALE</td>\n",
       "      <td>HISPANIC</td>\n",
       "      <td>GISELLE</td>\n",
       "      <td>38</td>\n",
       "      <td>51</td>\n",
       "    </tr>\n",
       "    <tr>\n",
       "      <th>4</th>\n",
       "      <td>2011</td>\n",
       "      <td>FEMALE</td>\n",
       "      <td>HISPANIC</td>\n",
       "      <td>GRACE</td>\n",
       "      <td>36</td>\n",
       "      <td>53</td>\n",
       "    </tr>\n",
       "  </tbody>\n",
       "</table>\n",
       "</div>"
      ],
      "text/plain": [
       "   Year of Birth  Gender Ethnicity Child's First Name  Count  Rank\n",
       "0           2011  FEMALE  HISPANIC          GERALDINE     13    75\n",
       "1           2011  FEMALE  HISPANIC                GIA     21    67\n",
       "2           2011  FEMALE  HISPANIC             GIANNA     49    42\n",
       "3           2011  FEMALE  HISPANIC            GISELLE     38    51\n",
       "4           2011  FEMALE  HISPANIC              GRACE     36    53"
      ]
     },
     "execution_count": 21,
     "metadata": {},
     "output_type": "execute_result"
    }
   ],
   "source": [
    "url = \"https://data.cityofnewyork.us/api/views/25th-nujf/rows.csv\"\n",
    "baby_names = pd.read_csv(url)\n",
    "baby_names.head()"
   ]
  },
  {
   "cell_type": "code",
   "execution_count": 22,
   "id": "e7326cf1-9b97-42e7-95e2-70ae17bfd4b0",
   "metadata": {},
   "outputs": [
    {
     "data": {
      "text/plain": [
       "\",Year of Birth,Gender,Ethnicity,Child's First Name,Count,Rank\\r\\n0,2011,FEMALE,HISPANIC,GERALDINE,13,75\\r\\n1,2011,FEMALE,HISPANIC,GIA,21,67\\r\\n2,2011,FEMALE,HISPANIC,GIANNA,49,42\\r\\n3,2011,FEMALE,HISPANIC,GISELLE,38,51\\r\\n4,2011,FEMALE,HISPANIC,GRACE,36,53\\r\\n5,2011,FEMALE,HISPANIC,GUADALUPE,26,62\\r\\n6,2011,FEMALE,HISPANIC,HAILEY,126,8\\r\\n7,2011,FEMALE,HISPANIC,HALEY,14,74\\r\\n8,2011,FEMALE,HISPANIC,HANNAH,17,71\\r\\n9,2011,FEMALE,HISPANIC,HAYLEE,17,71\\r\\n\""
      ]
     },
     "execution_count": 22,
     "metadata": {},
     "output_type": "execute_result"
    }
   ],
   "source": [
    "baby_names.head(10).to_csv()"
   ]
  },
  {
   "cell_type": "code",
   "execution_count": 23,
   "id": "3324ed33-a67e-460b-9382-741f76372256",
   "metadata": {},
   "outputs": [
    {
     "data": {
      "text/plain": [
       "\"Year of Birth,Gender,Ethnicity,Child's First Name,Count,Rank\\r\\n2011,FEMALE,HISPANIC,GERALDINE,13,75\\r\\n2011,FEMALE,HISPANIC,GIA,21,67\\r\\n2011,FEMALE,HISPANIC,GIANNA,49,42\\r\\n2011,FEMALE,HISPANIC,GISELLE,38,51\\r\\n2011,FEMALE,HISPANIC,GRACE,36,53\\r\\n2011,FEMALE,HISPANIC,GUADALUPE,26,62\\r\\n2011,FEMALE,HISPANIC,HAILEY,126,8\\r\\n2011,FEMALE,HISPANIC,HALEY,14,74\\r\\n2011,FEMALE,HISPANIC,HANNAH,17,71\\r\\n2011,FEMALE,HISPANIC,HAYLEE,17,71\\r\\n\""
      ]
     },
     "execution_count": 23,
     "metadata": {},
     "output_type": "execute_result"
    }
   ],
   "source": [
    "baby_names.head(10).to_csv(index=False)"
   ]
  },
  {
   "cell_type": "code",
   "execution_count": 24,
   "id": "89b0ca05-fea1-4d70-8408-dfc96564c575",
   "metadata": {},
   "outputs": [],
   "source": [
    "baby_names.to_csv(\"data/ch12/NYC_Baby_Names.csv\", index=False)"
   ]
  },
  {
   "cell_type": "code",
   "execution_count": 25,
   "id": "0b005776-1909-4836-bd9f-0084c55bc044",
   "metadata": {},
   "outputs": [],
   "source": [
    "baby_names.to_csv(\n",
    "    \"data/ch12/NYC_Baby_Names.csv\",\n",
    "    index=False,\n",
    "    columns=[\"Gender\", \"Child's First Name\", \"Count\"]\n",
    ")"
   ]
  },
  {
   "cell_type": "markdown",
   "id": "ff85de84-4631-4c82-8250-eba7a5efe2c5",
   "metadata": {},
   "source": [
    "## 12.3 Reading from and writing to Excel workbooks"
   ]
  },
  {
   "cell_type": "markdown",
   "id": "c4abd56d-6a7f-40a0-9de9-bf2e7d75b0ac",
   "metadata": {},
   "source": [
    "### 12.3.1 Installing the xlrd and openpyxl libraries in an Anaconda environment"
   ]
  },
  {
   "cell_type": "code",
   "execution_count": 26,
   "id": "e8a8ecd4-af5d-4419-945e-84351d85a114",
   "metadata": {},
   "outputs": [],
   "source": [
    "# pip install xlrd openpyxl"
   ]
  },
  {
   "cell_type": "markdown",
   "id": "3e4b4641-6138-42a1-aca0-1303e2453215",
   "metadata": {},
   "source": [
    "### 12.3.2 Importing Excel workbooks"
   ]
  },
  {
   "cell_type": "code",
   "execution_count": 27,
   "id": "74c7a6d8-fde5-4c88-80f0-ca68543ff9b0",
   "metadata": {},
   "outputs": [
    {
     "data": {
      "text/html": [
       "<div>\n",
       "<style scoped>\n",
       "    .dataframe tbody tr th:only-of-type {\n",
       "        vertical-align: middle;\n",
       "    }\n",
       "\n",
       "    .dataframe tbody tr th {\n",
       "        vertical-align: top;\n",
       "    }\n",
       "\n",
       "    .dataframe thead th {\n",
       "        text-align: right;\n",
       "    }\n",
       "</style>\n",
       "<table border=\"1\" class=\"dataframe\">\n",
       "  <thead>\n",
       "    <tr style=\"text-align: right;\">\n",
       "      <th></th>\n",
       "      <th>First Name</th>\n",
       "      <th>Last Name</th>\n",
       "      <th>City</th>\n",
       "      <th>Gender</th>\n",
       "    </tr>\n",
       "  </thead>\n",
       "  <tbody>\n",
       "    <tr>\n",
       "      <th>0</th>\n",
       "      <td>Brandon</td>\n",
       "      <td>James</td>\n",
       "      <td>Miami</td>\n",
       "      <td>M</td>\n",
       "    </tr>\n",
       "    <tr>\n",
       "      <th>1</th>\n",
       "      <td>Sean</td>\n",
       "      <td>Hawkins</td>\n",
       "      <td>Denver</td>\n",
       "      <td>M</td>\n",
       "    </tr>\n",
       "    <tr>\n",
       "      <th>2</th>\n",
       "      <td>Judy</td>\n",
       "      <td>Day</td>\n",
       "      <td>Los Angeles</td>\n",
       "      <td>F</td>\n",
       "    </tr>\n",
       "    <tr>\n",
       "      <th>3</th>\n",
       "      <td>Ashley</td>\n",
       "      <td>Ruiz</td>\n",
       "      <td>San Francisco</td>\n",
       "      <td>F</td>\n",
       "    </tr>\n",
       "    <tr>\n",
       "      <th>4</th>\n",
       "      <td>Stephanie</td>\n",
       "      <td>Gomez</td>\n",
       "      <td>Portland</td>\n",
       "      <td>F</td>\n",
       "    </tr>\n",
       "  </tbody>\n",
       "</table>\n",
       "</div>"
      ],
      "text/plain": [
       "  First Name Last Name           City Gender\n",
       "0    Brandon     James          Miami      M\n",
       "1       Sean   Hawkins         Denver      M\n",
       "2       Judy       Day    Los Angeles      F\n",
       "3     Ashley      Ruiz  San Francisco      F\n",
       "4  Stephanie     Gomez       Portland      F"
      ]
     },
     "execution_count": 27,
     "metadata": {},
     "output_type": "execute_result"
    }
   ],
   "source": [
    "pd.read_excel(\"data/ch12/Single Worksheet.xlsx\")"
   ]
  },
  {
   "cell_type": "code",
   "execution_count": 28,
   "id": "ab22d52d-bc7c-45c8-b053-8e5152912081",
   "metadata": {},
   "outputs": [
    {
     "data": {
      "text/html": [
       "<div>\n",
       "<style scoped>\n",
       "    .dataframe tbody tr th:only-of-type {\n",
       "        vertical-align: middle;\n",
       "    }\n",
       "\n",
       "    .dataframe tbody tr th {\n",
       "        vertical-align: top;\n",
       "    }\n",
       "\n",
       "    .dataframe thead th {\n",
       "        text-align: right;\n",
       "    }\n",
       "</style>\n",
       "<table border=\"1\" class=\"dataframe\">\n",
       "  <thead>\n",
       "    <tr style=\"text-align: right;\">\n",
       "      <th></th>\n",
       "      <th>First Name</th>\n",
       "      <th>Last Name</th>\n",
       "    </tr>\n",
       "    <tr>\n",
       "      <th>City</th>\n",
       "      <th></th>\n",
       "      <th></th>\n",
       "    </tr>\n",
       "  </thead>\n",
       "  <tbody>\n",
       "    <tr>\n",
       "      <th>Miami</th>\n",
       "      <td>Brandon</td>\n",
       "      <td>James</td>\n",
       "    </tr>\n",
       "    <tr>\n",
       "      <th>Denver</th>\n",
       "      <td>Sean</td>\n",
       "      <td>Hawkins</td>\n",
       "    </tr>\n",
       "    <tr>\n",
       "      <th>Los Angeles</th>\n",
       "      <td>Judy</td>\n",
       "      <td>Day</td>\n",
       "    </tr>\n",
       "    <tr>\n",
       "      <th>San Francisco</th>\n",
       "      <td>Ashley</td>\n",
       "      <td>Ruiz</td>\n",
       "    </tr>\n",
       "    <tr>\n",
       "      <th>Portland</th>\n",
       "      <td>Stephanie</td>\n",
       "      <td>Gomez</td>\n",
       "    </tr>\n",
       "  </tbody>\n",
       "</table>\n",
       "</div>"
      ],
      "text/plain": [
       "              First Name Last Name\n",
       "City                              \n",
       "Miami            Brandon     James\n",
       "Denver              Sean   Hawkins\n",
       "Los Angeles         Judy       Day\n",
       "San Francisco     Ashley      Ruiz\n",
       "Portland       Stephanie     Gomez"
      ]
     },
     "execution_count": 28,
     "metadata": {},
     "output_type": "execute_result"
    }
   ],
   "source": [
    "pd.read_excel(\n",
    "    io=\"data/ch12/Single Worksheet.xlsx\",\n",
    "    usecols=[\"City\", \"First Name\", \"Last Name\"],\n",
    "    index_col=\"City\"\n",
    ")"
   ]
  },
  {
   "cell_type": "code",
   "execution_count": 29,
   "id": "48d6eb51-8e76-4e2e-9278-6dae8eecf3d9",
   "metadata": {},
   "outputs": [
    {
     "data": {
      "text/html": [
       "<div>\n",
       "<style scoped>\n",
       "    .dataframe tbody tr th:only-of-type {\n",
       "        vertical-align: middle;\n",
       "    }\n",
       "\n",
       "    .dataframe tbody tr th {\n",
       "        vertical-align: top;\n",
       "    }\n",
       "\n",
       "    .dataframe thead th {\n",
       "        text-align: right;\n",
       "    }\n",
       "</style>\n",
       "<table border=\"1\" class=\"dataframe\">\n",
       "  <thead>\n",
       "    <tr style=\"text-align: right;\">\n",
       "      <th></th>\n",
       "      <th>First Name</th>\n",
       "      <th>Last Name</th>\n",
       "      <th>City</th>\n",
       "      <th>Gender</th>\n",
       "    </tr>\n",
       "  </thead>\n",
       "  <tbody>\n",
       "    <tr>\n",
       "      <th>0</th>\n",
       "      <td>Brandon</td>\n",
       "      <td>James</td>\n",
       "      <td>Miami</td>\n",
       "      <td>M</td>\n",
       "    </tr>\n",
       "    <tr>\n",
       "      <th>1</th>\n",
       "      <td>Sean</td>\n",
       "      <td>Hawkins</td>\n",
       "      <td>Denver</td>\n",
       "      <td>M</td>\n",
       "    </tr>\n",
       "    <tr>\n",
       "      <th>2</th>\n",
       "      <td>Judy</td>\n",
       "      <td>Day</td>\n",
       "      <td>Los Angeles</td>\n",
       "      <td>F</td>\n",
       "    </tr>\n",
       "    <tr>\n",
       "      <th>3</th>\n",
       "      <td>Ashley</td>\n",
       "      <td>Ruiz</td>\n",
       "      <td>San Francisco</td>\n",
       "      <td>F</td>\n",
       "    </tr>\n",
       "    <tr>\n",
       "      <th>4</th>\n",
       "      <td>Stephanie</td>\n",
       "      <td>Gomez</td>\n",
       "      <td>Portland</td>\n",
       "      <td>F</td>\n",
       "    </tr>\n",
       "  </tbody>\n",
       "</table>\n",
       "</div>"
      ],
      "text/plain": [
       "  First Name Last Name           City Gender\n",
       "0    Brandon     James          Miami      M\n",
       "1       Sean   Hawkins         Denver      M\n",
       "2       Judy       Day    Los Angeles      F\n",
       "3     Ashley      Ruiz  San Francisco      F\n",
       "4  Stephanie     Gomez       Portland      F"
      ]
     },
     "execution_count": 29,
     "metadata": {},
     "output_type": "execute_result"
    }
   ],
   "source": [
    "pd.read_excel(\"data/ch12/Multiple Worksheets.xlsx\")"
   ]
  },
  {
   "cell_type": "code",
   "execution_count": 30,
   "id": "44873daf-cc31-4097-bf5c-0f704c675a1f",
   "metadata": {},
   "outputs": [
    {
     "data": {
      "text/html": [
       "<div>\n",
       "<style scoped>\n",
       "    .dataframe tbody tr th:only-of-type {\n",
       "        vertical-align: middle;\n",
       "    }\n",
       "\n",
       "    .dataframe tbody tr th {\n",
       "        vertical-align: top;\n",
       "    }\n",
       "\n",
       "    .dataframe thead th {\n",
       "        text-align: right;\n",
       "    }\n",
       "</style>\n",
       "<table border=\"1\" class=\"dataframe\">\n",
       "  <thead>\n",
       "    <tr style=\"text-align: right;\">\n",
       "      <th></th>\n",
       "      <th>First Name</th>\n",
       "      <th>Last Name</th>\n",
       "      <th>City</th>\n",
       "      <th>Gender</th>\n",
       "    </tr>\n",
       "  </thead>\n",
       "  <tbody>\n",
       "    <tr>\n",
       "      <th>0</th>\n",
       "      <td>Brandon</td>\n",
       "      <td>James</td>\n",
       "      <td>Miami</td>\n",
       "      <td>M</td>\n",
       "    </tr>\n",
       "    <tr>\n",
       "      <th>1</th>\n",
       "      <td>Sean</td>\n",
       "      <td>Hawkins</td>\n",
       "      <td>Denver</td>\n",
       "      <td>M</td>\n",
       "    </tr>\n",
       "    <tr>\n",
       "      <th>2</th>\n",
       "      <td>Judy</td>\n",
       "      <td>Day</td>\n",
       "      <td>Los Angeles</td>\n",
       "      <td>F</td>\n",
       "    </tr>\n",
       "    <tr>\n",
       "      <th>3</th>\n",
       "      <td>Ashley</td>\n",
       "      <td>Ruiz</td>\n",
       "      <td>San Francisco</td>\n",
       "      <td>F</td>\n",
       "    </tr>\n",
       "    <tr>\n",
       "      <th>4</th>\n",
       "      <td>Stephanie</td>\n",
       "      <td>Gomez</td>\n",
       "      <td>Portland</td>\n",
       "      <td>F</td>\n",
       "    </tr>\n",
       "  </tbody>\n",
       "</table>\n",
       "</div>"
      ],
      "text/plain": [
       "  First Name Last Name           City Gender\n",
       "0    Brandon     James          Miami      M\n",
       "1       Sean   Hawkins         Denver      M\n",
       "2       Judy       Day    Los Angeles      F\n",
       "3     Ashley      Ruiz  San Francisco      F\n",
       "4  Stephanie     Gomez       Portland      F"
      ]
     },
     "execution_count": 30,
     "metadata": {},
     "output_type": "execute_result"
    }
   ],
   "source": [
    "# The two lines below are equivalent\n",
    "pd.read_excel(\"data/ch12/Multiple Worksheets.xlsx\", sheet_name=0)\n",
    "pd.read_excel(\"data/ch12/Multiple Worksheets.xlsx\", sheet_name=\"Data 1\")"
   ]
  },
  {
   "cell_type": "code",
   "execution_count": 31,
   "id": "1736a811-97db-40d8-9690-cd27b48b9408",
   "metadata": {},
   "outputs": [
    {
     "data": {
      "text/plain": [
       "{'Data 1':   First Name Last Name           City Gender\n",
       " 0    Brandon     James          Miami      M\n",
       " 1       Sean   Hawkins         Denver      M\n",
       " 2       Judy       Day    Los Angeles      F\n",
       " 3     Ashley      Ruiz  San Francisco      F\n",
       " 4  Stephanie     Gomez       Portland      F,\n",
       " 'Data 2':   First Name Last Name           City Gender\n",
       " 0     Parker     Power        Raleigh      F\n",
       " 1    Preston  Prescott   Philadelphia      F\n",
       " 2    Ronaldo   Donaldo         Bangor      M\n",
       " 3      Megan   Stiller  San Francisco      M\n",
       " 4     Bustin    Jieber         Austin      F,\n",
       " 'Data 3':   First Name  Last Name     City Gender\n",
       " 0     Robert     Miller  Seattle      M\n",
       " 1       Tara     Garcia  Phoenix      F\n",
       " 2    Raphael  Rodriguez  Orlando      M}"
      ]
     },
     "execution_count": 31,
     "metadata": {},
     "output_type": "execute_result"
    }
   ],
   "source": [
    "# To import all wooksheets:\n",
    "workbook = pd.read_excel(\n",
    "    \"data/ch12/Multiple Worksheets.xlsx\", sheet_name=None\n",
    ")\n",
    "\n",
    "workbook"
   ]
  },
  {
   "cell_type": "code",
   "execution_count": 32,
   "id": "df37ce68-0b57-4cbd-8adb-6b7baef5eeae",
   "metadata": {},
   "outputs": [
    {
     "data": {
      "text/plain": [
       "dict"
      ]
     },
     "execution_count": 32,
     "metadata": {},
     "output_type": "execute_result"
    }
   ],
   "source": [
    "type(workbook)"
   ]
  },
  {
   "cell_type": "code",
   "execution_count": 33,
   "id": "117d6335-84e2-456b-99a6-de1bc62641d8",
   "metadata": {},
   "outputs": [
    {
     "data": {
      "text/html": [
       "<div>\n",
       "<style scoped>\n",
       "    .dataframe tbody tr th:only-of-type {\n",
       "        vertical-align: middle;\n",
       "    }\n",
       "\n",
       "    .dataframe tbody tr th {\n",
       "        vertical-align: top;\n",
       "    }\n",
       "\n",
       "    .dataframe thead th {\n",
       "        text-align: right;\n",
       "    }\n",
       "</style>\n",
       "<table border=\"1\" class=\"dataframe\">\n",
       "  <thead>\n",
       "    <tr style=\"text-align: right;\">\n",
       "      <th></th>\n",
       "      <th>First Name</th>\n",
       "      <th>Last Name</th>\n",
       "      <th>City</th>\n",
       "      <th>Gender</th>\n",
       "    </tr>\n",
       "  </thead>\n",
       "  <tbody>\n",
       "    <tr>\n",
       "      <th>0</th>\n",
       "      <td>Parker</td>\n",
       "      <td>Power</td>\n",
       "      <td>Raleigh</td>\n",
       "      <td>F</td>\n",
       "    </tr>\n",
       "    <tr>\n",
       "      <th>1</th>\n",
       "      <td>Preston</td>\n",
       "      <td>Prescott</td>\n",
       "      <td>Philadelphia</td>\n",
       "      <td>F</td>\n",
       "    </tr>\n",
       "    <tr>\n",
       "      <th>2</th>\n",
       "      <td>Ronaldo</td>\n",
       "      <td>Donaldo</td>\n",
       "      <td>Bangor</td>\n",
       "      <td>M</td>\n",
       "    </tr>\n",
       "    <tr>\n",
       "      <th>3</th>\n",
       "      <td>Megan</td>\n",
       "      <td>Stiller</td>\n",
       "      <td>San Francisco</td>\n",
       "      <td>M</td>\n",
       "    </tr>\n",
       "    <tr>\n",
       "      <th>4</th>\n",
       "      <td>Bustin</td>\n",
       "      <td>Jieber</td>\n",
       "      <td>Austin</td>\n",
       "      <td>F</td>\n",
       "    </tr>\n",
       "  </tbody>\n",
       "</table>\n",
       "</div>"
      ],
      "text/plain": [
       "  First Name Last Name           City Gender\n",
       "0     Parker     Power        Raleigh      F\n",
       "1    Preston  Prescott   Philadelphia      F\n",
       "2    Ronaldo   Donaldo         Bangor      M\n",
       "3      Megan   Stiller  San Francisco      M\n",
       "4     Bustin    Jieber         Austin      F"
      ]
     },
     "execution_count": 33,
     "metadata": {},
     "output_type": "execute_result"
    }
   ],
   "source": [
    "# to access a DataFrame/worksheet\n",
    "workbook[\"Data 2\"]"
   ]
  },
  {
   "cell_type": "code",
   "execution_count": 34,
   "id": "ca69e48d-10d8-4aa4-b434-966d6a351af0",
   "metadata": {},
   "outputs": [
    {
     "data": {
      "text/plain": [
       "{'Data 1':   First Name Last Name           City Gender\n",
       " 0    Brandon     James          Miami      M\n",
       " 1       Sean   Hawkins         Denver      M\n",
       " 2       Judy       Day    Los Angeles      F\n",
       " 3     Ashley      Ruiz  San Francisco      F\n",
       " 4  Stephanie     Gomez       Portland      F,\n",
       " 'Data 3':   First Name  Last Name     City Gender\n",
       " 0     Robert     Miller  Seattle      M\n",
       " 1       Tara     Garcia  Phoenix      F\n",
       " 2    Raphael  Rodriguez  Orlando      M}"
      ]
     },
     "execution_count": 34,
     "metadata": {},
     "output_type": "execute_result"
    }
   ],
   "source": [
    "# To specify a subset of worksheets to import:\n",
    "pd.read_excel(\n",
    "    \"data/ch12/Multiple Worksheets.xlsx\",\n",
    "    sheet_name=[\"Data 1\", \"Data 3\"]\n",
    ")"
   ]
  },
  {
   "cell_type": "code",
   "execution_count": 35,
   "id": "8ede6075-f2b9-4e15-8203-014c768817e8",
   "metadata": {},
   "outputs": [
    {
     "data": {
      "text/plain": [
       "{1:   First Name Last Name           City Gender\n",
       " 0     Parker     Power        Raleigh      F\n",
       " 1    Preston  Prescott   Philadelphia      F\n",
       " 2    Ronaldo   Donaldo         Bangor      M\n",
       " 3      Megan   Stiller  San Francisco      M\n",
       " 4     Bustin    Jieber         Austin      F,\n",
       " 2:   First Name  Last Name     City Gender\n",
       " 0     Robert     Miller  Seattle      M\n",
       " 1       Tara     Garcia  Phoenix      F\n",
       " 2    Raphael  Rodriguez  Orlando      M}"
      ]
     },
     "execution_count": 35,
     "metadata": {},
     "output_type": "execute_result"
    }
   ],
   "source": [
    "# To specify targets index:\n",
    "pd.read_excel(\"data/ch12/Multiple Worksheets.xlsx\", sheet_name=[1, 2])"
   ]
  },
  {
   "cell_type": "markdown",
   "id": "508761e9-b909-4ea7-8e90-c588c9c77044",
   "metadata": {},
   "source": [
    "### 12.3.3 Exporting Excel workbooks"
   ]
  },
  {
   "cell_type": "code",
   "execution_count": 36,
   "id": "5f0db30e-1921-43f4-9258-110f76794428",
   "metadata": {},
   "outputs": [
    {
     "data": {
      "text/html": [
       "<div>\n",
       "<style scoped>\n",
       "    .dataframe tbody tr th:only-of-type {\n",
       "        vertical-align: middle;\n",
       "    }\n",
       "\n",
       "    .dataframe tbody tr th {\n",
       "        vertical-align: top;\n",
       "    }\n",
       "\n",
       "    .dataframe thead th {\n",
       "        text-align: right;\n",
       "    }\n",
       "</style>\n",
       "<table border=\"1\" class=\"dataframe\">\n",
       "  <thead>\n",
       "    <tr style=\"text-align: right;\">\n",
       "      <th></th>\n",
       "      <th>Year of Birth</th>\n",
       "      <th>Gender</th>\n",
       "      <th>Ethnicity</th>\n",
       "      <th>Child's First Name</th>\n",
       "      <th>Count</th>\n",
       "      <th>Rank</th>\n",
       "    </tr>\n",
       "  </thead>\n",
       "  <tbody>\n",
       "    <tr>\n",
       "      <th>0</th>\n",
       "      <td>2011</td>\n",
       "      <td>FEMALE</td>\n",
       "      <td>HISPANIC</td>\n",
       "      <td>GERALDINE</td>\n",
       "      <td>13</td>\n",
       "      <td>75</td>\n",
       "    </tr>\n",
       "    <tr>\n",
       "      <th>1</th>\n",
       "      <td>2011</td>\n",
       "      <td>FEMALE</td>\n",
       "      <td>HISPANIC</td>\n",
       "      <td>GIA</td>\n",
       "      <td>21</td>\n",
       "      <td>67</td>\n",
       "    </tr>\n",
       "    <tr>\n",
       "      <th>2</th>\n",
       "      <td>2011</td>\n",
       "      <td>FEMALE</td>\n",
       "      <td>HISPANIC</td>\n",
       "      <td>GIANNA</td>\n",
       "      <td>49</td>\n",
       "      <td>42</td>\n",
       "    </tr>\n",
       "    <tr>\n",
       "      <th>3</th>\n",
       "      <td>2011</td>\n",
       "      <td>FEMALE</td>\n",
       "      <td>HISPANIC</td>\n",
       "      <td>GISELLE</td>\n",
       "      <td>38</td>\n",
       "      <td>51</td>\n",
       "    </tr>\n",
       "    <tr>\n",
       "      <th>4</th>\n",
       "      <td>2011</td>\n",
       "      <td>FEMALE</td>\n",
       "      <td>HISPANIC</td>\n",
       "      <td>GRACE</td>\n",
       "      <td>36</td>\n",
       "      <td>53</td>\n",
       "    </tr>\n",
       "  </tbody>\n",
       "</table>\n",
       "</div>"
      ],
      "text/plain": [
       "   Year of Birth  Gender Ethnicity Child's First Name  Count  Rank\n",
       "0           2011  FEMALE  HISPANIC          GERALDINE     13    75\n",
       "1           2011  FEMALE  HISPANIC                GIA     21    67\n",
       "2           2011  FEMALE  HISPANIC             GIANNA     49    42\n",
       "3           2011  FEMALE  HISPANIC            GISELLE     38    51\n",
       "4           2011  FEMALE  HISPANIC              GRACE     36    53"
      ]
     },
     "execution_count": 36,
     "metadata": {},
     "output_type": "execute_result"
    }
   ],
   "source": [
    "baby_names.head()"
   ]
  },
  {
   "cell_type": "code",
   "execution_count": 37,
   "id": "b7c89717-80de-4005-a9aa-9e90268d253b",
   "metadata": {},
   "outputs": [],
   "source": [
    "girls = baby_names[baby_names[\"Gender\"] == \"FEMALE\"]\n",
    "boys = baby_names[baby_names[\"Gender\"] == \"MALE\"]"
   ]
  },
  {
   "cell_type": "code",
   "execution_count": 38,
   "id": "adb747f7-ea4e-484c-af57-84547888ff63",
   "metadata": {},
   "outputs": [
    {
     "data": {
      "text/plain": [
       "<pandas.io.excel._openpyxl.OpenpyxlWriter at 0x297f5f5c9d0>"
      ]
     },
     "execution_count": 38,
     "metadata": {},
     "output_type": "execute_result"
    }
   ],
   "source": [
    "excel_file = pd.ExcelWriter(\"data/ch12/Baby_Names.xlsx\")\n",
    "excel_file"
   ]
  },
  {
   "cell_type": "code",
   "execution_count": 39,
   "id": "78b7c410-51fb-41c1-86e5-024d16e8a951",
   "metadata": {},
   "outputs": [],
   "source": [
    "girls.to_excel(\n",
    "    excel_writer=excel_file, sheet_name=\"Girls\", index=False\n",
    ")"
   ]
  },
  {
   "cell_type": "code",
   "execution_count": 40,
   "id": "0a42e446-5f0c-42e7-89c0-ac51235ed2d7",
   "metadata": {},
   "outputs": [],
   "source": [
    "boys.to_excel(\n",
    "    excel_file,\n",
    "    sheet_name=\"Boys\",\n",
    "    index=False,\n",
    "    columns=[\"Child's First Name\", \"Count\", \"Rank\"]\n",
    ")"
   ]
  },
  {
   "cell_type": "code",
   "execution_count": 41,
   "id": "41b3c5eb-4719-4220-be6b-2883df595bc8",
   "metadata": {},
   "outputs": [],
   "source": [
    "excel_file.close()"
   ]
  }
 ],
 "metadata": {
  "kernelspec": {
   "display_name": "Python 3 (ipykernel)",
   "language": "python",
   "name": "python3"
  },
  "language_info": {
   "codemirror_mode": {
    "name": "ipython",
    "version": 3
   },
   "file_extension": ".py",
   "mimetype": "text/x-python",
   "name": "python",
   "nbconvert_exporter": "python",
   "pygments_lexer": "ipython3",
   "version": "3.11.3"
  }
 },
 "nbformat": 4,
 "nbformat_minor": 5
}
